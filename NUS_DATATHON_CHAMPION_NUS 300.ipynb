{
 "cells": [
  {
   "cell_type": "markdown",
   "metadata": {
    "id": "Fpc6BslbiKsG"
   },
   "source": [
    "##### The cell below is for you to keep track of the libraries used and install those libraries quickly\n",
    "##### Ensure that the proper library names are used and the syntax of `%pip install PACKAGE_NAME` is followed"
   ]
  },
  {
   "cell_type": "code",
   "execution_count": 1,
   "metadata": {
    "executionInfo": {
     "elapsed": 6,
     "status": "ok",
     "timestamp": 1706542388831,
     "user": {
      "displayName": "Kaung Htet Wai Yan",
      "userId": "02128948019834248581"
     },
     "user_tz": -480
    },
    "id": "cDJLKU06iKsJ"
   },
   "outputs": [],
   "source": [
    "# %pip install pandas\n",
    "# %pip install matplotlib\n",
    "# %pip install seaborn\n",
    "# %pip install numpy\n",
    "# %pip install scikit-learn\n",
    "# add commented pip installation lines for packages used as shown above for ease of testing\n",
    "# the line should be of the format %pip install PACKAGE_NAME"
   ]
  },
  {
   "cell_type": "markdown",
   "metadata": {
    "id": "-CPwf68liKsL"
   },
   "source": [
    "## **DO NOT CHANGE** the filepath variable\n",
    "##### Instead, create a folder named 'data' in your current working directory and\n",
    "##### have the .csv file inside that. A relative path *must* be used when loading data into pandas"
   ]
  },
  {
   "cell_type": "code",
   "execution_count": 2,
   "metadata": {
    "colab": {
     "base_uri": "https://localhost:8080/"
    },
    "executionInfo": {
     "elapsed": 2401,
     "status": "ok",
     "timestamp": 1706542391227,
     "user": {
      "displayName": "Kaung Htet Wai Yan",
      "userId": "02128948019834248581"
     },
     "user_tz": -480
    },
    "id": "GFMOls2EiKsM",
    "outputId": "18de94bf-b0e8-4ed0-8f35-0be2e7f46148"
   },
   "outputs": [],
   "source": [
    "# DO NOT DELETE (UNCOMMENT THIS SECTION FOR SUBMISSION)\n",
    "# Can have as many cells as you want for code\n",
    "import pandas as pd\n",
    "filepath = \"./data/catA_train.csv\"\n",
    "# the initialised filepath MUST be a relative path to a folder named data that contains the parquet file"
   ]
  },
  {
   "cell_type": "markdown",
   "metadata": {
    "id": "JSkRti1viKsM"
   },
   "source": [
    "### **ALL** Code for machine learning and dataset analysis should be entered below.\n",
    "##### Ensure that your code is clear and readable.\n",
    "##### Comments and Markdown notes are advised to direct attention to pieces of code you deem useful."
   ]
  },
  {
   "cell_type": "markdown",
   "metadata": {
    "id": "xpaqOibthZDb"
   },
   "source": [
    "# Data Exploration"
   ]
  },
  {
   "cell_type": "markdown",
   "metadata": {
    "id": "NSivh9r4QYxV"
   },
   "source": [
    "## Importing data from csv file\n",
    "First, we get the shape of the data and preview the top few rows."
   ]
  },
  {
   "cell_type": "code",
   "execution_count": 3,
   "metadata": {
    "colab": {
     "base_uri": "https://localhost:8080/",
     "height": 0
    },
    "executionInfo": {
     "elapsed": 1653,
     "status": "ok",
     "timestamp": 1706542392876,
     "user": {
      "displayName": "Kaung Htet Wai Yan",
      "userId": "02128948019834248581"
     },
     "user_tz": -480
    },
    "id": "_5lEmoxiiKsN",
    "outputId": "a8c085c6-4988-48fd-8b1f-aad059ca8107"
   },
   "outputs": [
    {
     "name": "stdout",
     "output_type": "stream",
     "text": [
      "No. of rows: 29182\n",
      "No. of cols: 28\n"
     ]
    },
    {
     "data": {
      "text/html": [
       "<div>\n",
       "<style scoped>\n",
       "    .dataframe tbody tr th:only-of-type {\n",
       "        vertical-align: middle;\n",
       "    }\n",
       "\n",
       "    .dataframe tbody tr th {\n",
       "        vertical-align: top;\n",
       "    }\n",
       "\n",
       "    .dataframe thead th {\n",
       "        text-align: right;\n",
       "    }\n",
       "</style>\n",
       "<table border=\"1\" class=\"dataframe\">\n",
       "  <thead>\n",
       "    <tr style=\"text-align: right;\">\n",
       "      <th></th>\n",
       "      <th>LATITUDE</th>\n",
       "      <th>LONGITUDE</th>\n",
       "      <th>AccountID</th>\n",
       "      <th>Company</th>\n",
       "      <th>SIC Code</th>\n",
       "      <th>Industry</th>\n",
       "      <th>8-Digit SIC Code</th>\n",
       "      <th>8-Digit SIC Description</th>\n",
       "      <th>Year Found</th>\n",
       "      <th>Entity Type</th>\n",
       "      <th>...</th>\n",
       "      <th>Employees (Global Ultimate Total)</th>\n",
       "      <th>Sales (Domestic Ultimate Total USD)</th>\n",
       "      <th>Sales (Global Ultimate Total USD)</th>\n",
       "      <th>Import/Export Status</th>\n",
       "      <th>Fiscal Year End</th>\n",
       "      <th>Global Ultimate Company</th>\n",
       "      <th>Global Ultimate Country</th>\n",
       "      <th>Domestic Ultimate Company</th>\n",
       "      <th>Is Domestic Ultimate</th>\n",
       "      <th>Is Global Ultimate</th>\n",
       "    </tr>\n",
       "  </thead>\n",
       "  <tbody>\n",
       "    <tr>\n",
       "      <th>0</th>\n",
       "      <td>1.285495</td>\n",
       "      <td>103.843852</td>\n",
       "      <td>LAKB2BID4559214</td>\n",
       "      <td>FRANK CONSULTING SERVICES PRIVATE LIMITED</td>\n",
       "      <td>7361.0</td>\n",
       "      <td>Employment Agencies</td>\n",
       "      <td>73610000.0</td>\n",
       "      <td>Employment agencies</td>\n",
       "      <td>2020.0</td>\n",
       "      <td>Subsidiary</td>\n",
       "      <td>...</td>\n",
       "      <td>NaN</td>\n",
       "      <td>2.209224e+06</td>\n",
       "      <td>4.637871e+06</td>\n",
       "      <td>NaN</td>\n",
       "      <td>NaN</td>\n",
       "      <td>FINDERS HOLDCO LIMITED</td>\n",
       "      <td>United Kingdom</td>\n",
       "      <td>FRANK RECRUITMENT GROUP PRIVATE LTD.</td>\n",
       "      <td>0.0</td>\n",
       "      <td>0.0</td>\n",
       "    </tr>\n",
       "    <tr>\n",
       "      <th>1</th>\n",
       "      <td>1.291294</td>\n",
       "      <td>103.827476</td>\n",
       "      <td>LAKB2BID7610849</td>\n",
       "      <td>NEW DESERT ORCHID SHIPPING PTE. LTD.</td>\n",
       "      <td>4449.0</td>\n",
       "      <td>Water Transportation of Freight, Not Elsewhere...</td>\n",
       "      <td>44490000.0</td>\n",
       "      <td>Water transportation of freight</td>\n",
       "      <td>2015.0</td>\n",
       "      <td>Subsidiary</td>\n",
       "      <td>...</td>\n",
       "      <td>100.0</td>\n",
       "      <td>7.093536e+09</td>\n",
       "      <td>7.093536e+09</td>\n",
       "      <td>NaN</td>\n",
       "      <td>NaN</td>\n",
       "      <td>PETREDEC PTE. LIMITED</td>\n",
       "      <td>Singapore</td>\n",
       "      <td>NaN</td>\n",
       "      <td>0.0</td>\n",
       "      <td>0.0</td>\n",
       "    </tr>\n",
       "    <tr>\n",
       "      <th>2</th>\n",
       "      <td>1.300144</td>\n",
       "      <td>103.857517</td>\n",
       "      <td>LAKB2BID5461679</td>\n",
       "      <td>2MBAO BIOCELLBANK PTE. LTD.</td>\n",
       "      <td>6719.0</td>\n",
       "      <td>Offices of Holding Companies, Not Elsewhere Cl...</td>\n",
       "      <td>67190000.0</td>\n",
       "      <td>Holding companies, nec</td>\n",
       "      <td>1993.0</td>\n",
       "      <td>Subsidiary</td>\n",
       "      <td>...</td>\n",
       "      <td>4.0</td>\n",
       "      <td>1.026308e+06</td>\n",
       "      <td>1.026308e+06</td>\n",
       "      <td>NaN</td>\n",
       "      <td>NaN</td>\n",
       "      <td>MADISON LIGHTERS AND WATCHES CO LTD</td>\n",
       "      <td>Hong Kong SAR</td>\n",
       "      <td>2MBAO BIOCELLBANK PTE. LTD.</td>\n",
       "      <td>1.0</td>\n",
       "      <td>0.0</td>\n",
       "    </tr>\n",
       "    <tr>\n",
       "      <th>3</th>\n",
       "      <td>1.300785</td>\n",
       "      <td>103.791263</td>\n",
       "      <td>LAKB2BID5088529</td>\n",
       "      <td>NEWBLOOM PTE. LTD.</td>\n",
       "      <td>6719.0</td>\n",
       "      <td>Offices of Holding Companies, Not Elsewhere Cl...</td>\n",
       "      <td>67190000.0</td>\n",
       "      <td>Holding companies, nec</td>\n",
       "      <td>2006.0</td>\n",
       "      <td>Subsidiary</td>\n",
       "      <td>...</td>\n",
       "      <td>100.0</td>\n",
       "      <td>7.339898e+10</td>\n",
       "      <td>7.339898e+10</td>\n",
       "      <td>NaN</td>\n",
       "      <td>NaN</td>\n",
       "      <td>WILMAR INTERNATIONAL LIMITED</td>\n",
       "      <td>Singapore</td>\n",
       "      <td>WILMAR INTERNATIONAL LIMITED</td>\n",
       "      <td>0.0</td>\n",
       "      <td>0.0</td>\n",
       "    </tr>\n",
       "    <tr>\n",
       "      <th>4</th>\n",
       "      <td>1.298759</td>\n",
       "      <td>103.859430</td>\n",
       "      <td>LAKB2BID1268831</td>\n",
       "      <td>ASIA GREEN CAPITAL PTE. LTD.</td>\n",
       "      <td>6719.0</td>\n",
       "      <td>Offices of Holding Companies, Not Elsewhere Cl...</td>\n",
       "      <td>67190000.0</td>\n",
       "      <td>Holding companies, nec</td>\n",
       "      <td>2006.0</td>\n",
       "      <td>Parent</td>\n",
       "      <td>...</td>\n",
       "      <td>4.0</td>\n",
       "      <td>4.322130e+05</td>\n",
       "      <td>4.322130e+05</td>\n",
       "      <td>Exports</td>\n",
       "      <td>NaN</td>\n",
       "      <td>ASIA GREEN CAPITAL PTE. LTD.</td>\n",
       "      <td>Singapore</td>\n",
       "      <td>ASIA GREEN CAPITAL PTE. LTD.</td>\n",
       "      <td>1.0</td>\n",
       "      <td>1.0</td>\n",
       "    </tr>\n",
       "  </tbody>\n",
       "</table>\n",
       "<p>5 rows × 28 columns</p>\n",
       "</div>"
      ],
      "text/plain": [
       "   LATITUDE   LONGITUDE        AccountID  \\\n",
       "0  1.285495  103.843852  LAKB2BID4559214   \n",
       "1  1.291294  103.827476  LAKB2BID7610849   \n",
       "2  1.300144  103.857517  LAKB2BID5461679   \n",
       "3  1.300785  103.791263  LAKB2BID5088529   \n",
       "4  1.298759  103.859430  LAKB2BID1268831   \n",
       "\n",
       "                                     Company  SIC Code  \\\n",
       "0  FRANK CONSULTING SERVICES PRIVATE LIMITED    7361.0   \n",
       "1       NEW DESERT ORCHID SHIPPING PTE. LTD.    4449.0   \n",
       "2                2MBAO BIOCELLBANK PTE. LTD.    6719.0   \n",
       "3                         NEWBLOOM PTE. LTD.    6719.0   \n",
       "4               ASIA GREEN CAPITAL PTE. LTD.    6719.0   \n",
       "\n",
       "                                            Industry  8-Digit SIC Code  \\\n",
       "0                                Employment Agencies        73610000.0   \n",
       "1  Water Transportation of Freight, Not Elsewhere...        44490000.0   \n",
       "2  Offices of Holding Companies, Not Elsewhere Cl...        67190000.0   \n",
       "3  Offices of Holding Companies, Not Elsewhere Cl...        67190000.0   \n",
       "4  Offices of Holding Companies, Not Elsewhere Cl...        67190000.0   \n",
       "\n",
       "           8-Digit SIC Description  Year Found Entity Type  ...  \\\n",
       "0              Employment agencies      2020.0  Subsidiary  ...   \n",
       "1  Water transportation of freight      2015.0  Subsidiary  ...   \n",
       "2           Holding companies, nec      1993.0  Subsidiary  ...   \n",
       "3           Holding companies, nec      2006.0  Subsidiary  ...   \n",
       "4           Holding companies, nec      2006.0      Parent  ...   \n",
       "\n",
       "  Employees (Global Ultimate Total) Sales (Domestic Ultimate Total USD)  \\\n",
       "0                               NaN                        2.209224e+06   \n",
       "1                             100.0                        7.093536e+09   \n",
       "2                               4.0                        1.026308e+06   \n",
       "3                             100.0                        7.339898e+10   \n",
       "4                               4.0                        4.322130e+05   \n",
       "\n",
       "  Sales (Global Ultimate Total USD) Import/Export Status  Fiscal Year End  \\\n",
       "0                      4.637871e+06                  NaN              NaN   \n",
       "1                      7.093536e+09                  NaN              NaN   \n",
       "2                      1.026308e+06                  NaN              NaN   \n",
       "3                      7.339898e+10                  NaN              NaN   \n",
       "4                      4.322130e+05              Exports              NaN   \n",
       "\n",
       "               Global Ultimate Company  Global Ultimate Country  \\\n",
       "0               FINDERS HOLDCO LIMITED           United Kingdom   \n",
       "1                PETREDEC PTE. LIMITED                Singapore   \n",
       "2  MADISON LIGHTERS AND WATCHES CO LTD            Hong Kong SAR   \n",
       "3         WILMAR INTERNATIONAL LIMITED                Singapore   \n",
       "4         ASIA GREEN CAPITAL PTE. LTD.                Singapore   \n",
       "\n",
       "              Domestic Ultimate Company  Is Domestic Ultimate  \\\n",
       "0  FRANK RECRUITMENT GROUP PRIVATE LTD.                   0.0   \n",
       "1                                   NaN                   0.0   \n",
       "2           2MBAO BIOCELLBANK PTE. LTD.                   1.0   \n",
       "3          WILMAR INTERNATIONAL LIMITED                   0.0   \n",
       "4          ASIA GREEN CAPITAL PTE. LTD.                   1.0   \n",
       "\n",
       "   Is Global Ultimate  \n",
       "0                 0.0  \n",
       "1                 0.0  \n",
       "2                 0.0  \n",
       "3                 0.0  \n",
       "4                 1.0  \n",
       "\n",
       "[5 rows x 28 columns]"
      ]
     },
     "execution_count": 3,
     "metadata": {},
     "output_type": "execute_result"
    }
   ],
   "source": [
    "import pandas as pd\n",
    "import numpy as np\n",
    "from matplotlib import pyplot as plt\n",
    "import seaborn as sns\n",
    "\n",
    "df = pd.read_csv(filepath)\n",
    "print(\"No. of rows: {}\\nNo. of cols: {}\".format(*df.shape))\n",
    "df.head()"
   ]
  },
  {
   "cell_type": "markdown",
   "metadata": {
    "id": "B3pVv7dmi0fg"
   },
   "source": [
    "##Initial analysis\n",
    "From the overview, there are a few initial conclusions we can draw about the usability of some categories. Particularly, our team is looking for notable patterns or data-lacking columns. We first counted the number of missing values in each column. Following, we looked at the number of unique values in each column."
   ]
  },
  {
   "cell_type": "code",
   "execution_count": 4,
   "metadata": {
    "colab": {
     "base_uri": "https://localhost:8080/"
    },
    "executionInfo": {
     "elapsed": 4,
     "status": "ok",
     "timestamp": 1706542392876,
     "user": {
      "displayName": "Kaung Htet Wai Yan",
      "userId": "02128948019834248581"
     },
     "user_tz": -480
    },
    "id": "OqNuwT06x5ij",
    "outputId": "ed78dc4f-2510-4c90-b4b6-a045b2f43414"
   },
   "outputs": [
    {
     "data": {
      "text/plain": [
       "Square Footage                         29182\n",
       "Import/Export Status                   22569\n",
       "Fiscal Year End                        22445\n",
       "Employees (Single Site)                12403\n",
       "Employees (Global Ultimate Total)       2774\n",
       "Domestic Ultimate Company               1035\n",
       "Global Ultimate Country                  523\n",
       "Parent Country                           520\n",
       "Global Ultimate Company                  514\n",
       "Parent Company                           514\n",
       "Year Found                               434\n",
       "LONGITUDE                                120\n",
       "LATITUDE                                 120\n",
       "Employees (Domestic Ultimate Total)       79\n",
       "Company Description                        0\n",
       "Ownership Type                             0\n",
       "Company Status (Active/Inactive)           0\n",
       "Entity Type                                0\n",
       "8-Digit SIC Description                    0\n",
       "Sales (Domestic Ultimate Total USD)        0\n",
       "Sales (Global Ultimate Total USD)          0\n",
       "8-Digit SIC Code                           0\n",
       "Industry                                   0\n",
       "SIC Code                                   0\n",
       "Company                                    0\n",
       "AccountID                                  0\n",
       "Is Domestic Ultimate                       0\n",
       "Is Global Ultimate                         0\n",
       "dtype: int64"
      ]
     },
     "execution_count": 4,
     "metadata": {},
     "output_type": "execute_result"
    }
   ],
   "source": [
    "df.isna().sum().sort_values(ascending=False)"
   ]
  },
  {
   "cell_type": "code",
   "execution_count": 5,
   "metadata": {
    "colab": {
     "base_uri": "https://localhost:8080/"
    },
    "executionInfo": {
     "elapsed": 546,
     "status": "ok",
     "timestamp": 1706542393419,
     "user": {
      "displayName": "Kaung Htet Wai Yan",
      "userId": "02128948019834248581"
     },
     "user_tz": -480
    },
    "id": "GsqotoOraJJu",
    "outputId": "62e2c8a5-4c61-40d8-b58a-690fcc0d6767"
   },
   "outputs": [
    {
     "data": {
      "text/plain": [
       "Square Footage                             0\n",
       "Company Status (Active/Inactive)           1\n",
       "Is Global Ultimate                         2\n",
       "Is Domestic Ultimate                       2\n",
       "Import/Export Status                       3\n",
       "Entity Type                                4\n",
       "Ownership Type                             6\n",
       "Parent Country                            69\n",
       "Global Ultimate Country                   74\n",
       "Year Found                               106\n",
       "Fiscal Year End                          115\n",
       "Employees (Single Site)                  227\n",
       "Employees (Domestic Ultimate Total)      380\n",
       "Industry                                 580\n",
       "SIC Code                                 582\n",
       "Employees (Global Ultimate Total)       2013\n",
       "8-Digit SIC Description                 2191\n",
       "8-Digit SIC Code                        2255\n",
       "Sales (Global Ultimate Total USD)       7574\n",
       "Sales (Domestic Ultimate Total USD)     8346\n",
       "LATITUDE                                9305\n",
       "LONGITUDE                               9307\n",
       "Global Ultimate Company                14145\n",
       "Domestic Ultimate Company              15597\n",
       "Parent Company                         17882\n",
       "Company Description                    28615\n",
       "Company                                29182\n",
       "AccountID                              29182\n",
       "dtype: int64"
      ]
     },
     "execution_count": 5,
     "metadata": {},
     "output_type": "execute_result"
    }
   ],
   "source": [
    "df.nunique().sort_values()"
   ]
  },
  {
   "cell_type": "markdown",
   "metadata": {
    "id": "fiiIFMaXQ7s-"
   },
   "source": [
    "## Dropping columns\n"
   ]
  },
  {
   "cell_type": "markdown",
   "metadata": {
    "id": "rr8AzKvNoVw2"
   },
   "source": [
    "We discover that the columns `Square Footage`, `Employees (Single Site)`, `Import/Export Status`, and `Fiscal Year End` possess a substantial numbers of missing values. This can prove problematic in the calculation of analysis values as well as predictions, leading to lower than expected values. In the interest of accuracy over encompassing more values and categories, we chose to drop these columns.\n",
    "\n",
    "Moreover, the column `Company Status (Active/Inactive)` has only one unique value.\n",
    "\n",
    "`AccountID` and `Company` are simply unique identifiers for each company and thus irrelevant for analysis.\n",
    "\n",
    "`Company Description` and `8-Digit SIC Description` are long strings that are too prohibitively complex to process and extract information from.\n",
    "\n",
    "`LATITUDE` and `LONGITUDE` have been dropped in the interest of reducing feature complexity of our subsequent models."
   ]
  },
  {
   "cell_type": "code",
   "execution_count": 6,
   "metadata": {
    "executionInfo": {
     "elapsed": 4,
     "status": "ok",
     "timestamp": 1706542393419,
     "user": {
      "displayName": "Kaung Htet Wai Yan",
      "userId": "02128948019834248581"
     },
     "user_tz": -480
    },
    "id": "W2Qagli9qNoI"
   },
   "outputs": [],
   "source": [
    "df = df.drop(columns=['Square Footage',\n",
    "                      'Employees (Single Site)',\n",
    "                      'Import/Export Status',\n",
    "                      'Fiscal Year End',\n",
    "                      'Company Status (Active/Inactive)',\n",
    "                      'AccountID',\n",
    "                      'Company',\n",
    "                      'Company Description',\n",
    "                      '8-Digit SIC Description',\n",
    "                      'LATITUDE',\n",
    "                      'LONGITUDE'])"
   ]
  },
  {
   "cell_type": "markdown",
   "metadata": {
    "id": "9GUjTAPxNQiE"
   },
   "source": [
    "In order to identify trends and patterns of significance, the use of statistical correlations gave us a good sense of interesting patterns. Below is a correlation matrix, which allow us to scope out interesting relationships previously unnoticeable from the orginal data."
   ]
  },
  {
   "cell_type": "code",
   "execution_count": 7,
   "metadata": {
    "colab": {
     "base_uri": "https://localhost:8080/"
    },
    "executionInfo": {
     "elapsed": 4,
     "status": "ok",
     "timestamp": 1706542393419,
     "user": {
      "displayName": "Kaung Htet Wai Yan",
      "userId": "02128948019834248581"
     },
     "user_tz": -480
    },
    "id": "oVj4SYZVwy3u",
    "outputId": "5f3d319f-38a6-47d2-f936-5d9495f9bba4"
   },
   "outputs": [
    {
     "name": "stdout",
     "output_type": "stream",
     "text": [
      "                                     SIC Code  8-Digit SIC Code  Year Found  \\\n",
      "SIC Code                             1.000000          0.999772    0.195683   \n",
      "8-Digit SIC Code                     0.999772          1.000000    0.195632   \n",
      "Year Found                           0.195683          0.195632    1.000000   \n",
      "Employees (Domestic Ultimate Total) -0.022058         -0.022178   -0.046540   \n",
      "Employees (Global Ultimate Total)    0.001587          0.001607   -0.025981   \n",
      "Sales (Domestic Ultimate Total USD) -0.011493         -0.011480    0.014523   \n",
      "Sales (Global Ultimate Total USD)   -0.014743         -0.014717   -0.021591   \n",
      "Is Domestic Ultimate                 0.016096          0.015921    0.076785   \n",
      "Is Global Ultimate                   0.087371          0.087409    0.111644   \n",
      "\n",
      "                                     Employees (Domestic Ultimate Total)  \\\n",
      "SIC Code                                                       -0.022058   \n",
      "8-Digit SIC Code                                               -0.022178   \n",
      "Year Found                                                     -0.046540   \n",
      "Employees (Domestic Ultimate Total)                             1.000000   \n",
      "Employees (Global Ultimate Total)                               0.020404   \n",
      "Sales (Domestic Ultimate Total USD)                             0.016907   \n",
      "Sales (Global Ultimate Total USD)                               0.024359   \n",
      "Is Domestic Ultimate                                           -0.060550   \n",
      "Is Global Ultimate                                             -0.044336   \n",
      "\n",
      "                                     Employees (Global Ultimate Total)  \\\n",
      "SIC Code                                                      0.001587   \n",
      "8-Digit SIC Code                                              0.001607   \n",
      "Year Found                                                   -0.025981   \n",
      "Employees (Domestic Ultimate Total)                           0.020404   \n",
      "Employees (Global Ultimate Total)                             1.000000   \n",
      "Sales (Domestic Ultimate Total USD)                          -0.003966   \n",
      "Sales (Global Ultimate Total USD)                             0.663478   \n",
      "Is Domestic Ultimate                                          0.076545   \n",
      "Is Global Ultimate                                           -0.087329   \n",
      "\n",
      "                                     Sales (Domestic Ultimate Total USD)  \\\n",
      "SIC Code                                                       -0.011493   \n",
      "8-Digit SIC Code                                               -0.011480   \n",
      "Year Found                                                      0.014523   \n",
      "Employees (Domestic Ultimate Total)                             0.016907   \n",
      "Employees (Global Ultimate Total)                              -0.003966   \n",
      "Sales (Domestic Ultimate Total USD)                             1.000000   \n",
      "Sales (Global Ultimate Total USD)                               0.098110   \n",
      "Is Domestic Ultimate                                           -0.054561   \n",
      "Is Global Ultimate                                             -0.039314   \n",
      "\n",
      "                                     Sales (Global Ultimate Total USD)  \\\n",
      "SIC Code                                                     -0.014743   \n",
      "8-Digit SIC Code                                             -0.014717   \n",
      "Year Found                                                   -0.021591   \n",
      "Employees (Domestic Ultimate Total)                           0.024359   \n",
      "Employees (Global Ultimate Total)                             0.663478   \n",
      "Sales (Domestic Ultimate Total USD)                           0.098110   \n",
      "Sales (Global Ultimate Total USD)                             1.000000   \n",
      "Is Domestic Ultimate                                          0.038558   \n",
      "Is Global Ultimate                                           -0.096102   \n",
      "\n",
      "                                     Is Domestic Ultimate  Is Global Ultimate  \n",
      "SIC Code                                         0.016096            0.087371  \n",
      "8-Digit SIC Code                                 0.015921            0.087409  \n",
      "Year Found                                       0.076785            0.111644  \n",
      "Employees (Domestic Ultimate Total)             -0.060550           -0.044336  \n",
      "Employees (Global Ultimate Total)                0.076545           -0.087329  \n",
      "Sales (Domestic Ultimate Total USD)             -0.054561           -0.039314  \n",
      "Sales (Global Ultimate Total USD)                0.038558           -0.096102  \n",
      "Is Domestic Ultimate                             1.000000            0.588429  \n",
      "Is Global Ultimate                               0.588429            1.000000  \n"
     ]
    }
   ],
   "source": [
    "print(df.corr())"
   ]
  },
  {
   "cell_type": "markdown",
   "metadata": {
    "id": "TZ37M0P3wunY"
   },
   "source": [
    "Now let's visualise this with a heatmap"
   ]
  },
  {
   "cell_type": "code",
   "execution_count": 8,
   "metadata": {
    "colab": {
     "base_uri": "https://localhost:8080/",
     "height": 997
    },
    "executionInfo": {
     "elapsed": 1310,
     "status": "ok",
     "timestamp": 1706542394726,
     "user": {
      "displayName": "Kaung Htet Wai Yan",
      "userId": "02128948019834248581"
     },
     "user_tz": -480
    },
    "id": "oA_qsGLONP2l",
    "outputId": "e9fe491c-d409-444a-b987-5406c73bebdc"
   },
   "outputs": [
    {
     "data": {
      "text/plain": [
       "<AxesSubplot:>"
      ]
     },
     "execution_count": 8,
     "metadata": {},
     "output_type": "execute_result"
    },
    {
     "data": {
      "image/png": "[encoded data removed]",
      "text/plain": [
       "<Figure size 1000x800 with 2 Axes>"
      ]
     },
     "metadata": {},
     "output_type": "display_data"
    }
   ],
   "source": [
    "pd.set_option('display.expand_frame_repr', False)\n",
    "\n",
    "f, ax = plt.subplots(figsize=(10, 8))\n",
    "corr = df.corr()\n",
    "sns.heatmap(corr,\n",
    "    cmap=sns.diverging_palette(220, 10, as_cmap=True),\n",
    "    vmin=-1.0, vmax=1.0,\n",
    "    square=True, ax=ax)"
   ]
  },
  {
   "cell_type": "markdown",
   "metadata": {
    "id": "AJX6eJiPhEAy"
   },
   "source": [
    "From the correlation matrix and heatmap visualization, we ackowledged the strong correlations between `Employees (Domestic Ultimate Total)` , `Employees (Global Ultimate Total)` and `Sales (Domestic Ultimate Total USD)'` , `'Sales (Global Ultimate Total USD)`"
   ]
  },
  {
   "cell_type": "markdown",
   "metadata": {
    "id": "iPV2DomIysic"
   },
   "source": [
    "## Feature Engineering\n",
    "To generate more specific and valuable trends and relationships, we have created `same_ultimate_company`.\n",
    "\n",
    "Since the given `sector` column has too many unique categories and will lead to high-dimensionality, we decide to use 'SIC Code' to create our own 'sector' feature with less categories. We referred to the SIC standard to decide on the categorisations.\n",
    "\n",
    "We obtained SIC code categorisations from this webpage : https://www.ehso.com/siccodes.php\n",
    "\n",
    "This may allow us to gather a clearer and stronger relationship between the different factors and global sales.\n"
   ]
  },
  {
   "cell_type": "code",
   "execution_count": 9,
   "metadata": {
    "executionInfo": {
     "elapsed": 5,
     "status": "ok",
     "timestamp": 1706542394727,
     "user": {
      "displayName": "Kaung Htet Wai Yan",
      "userId": "02128948019834248581"
     },
     "user_tz": -480
    },
    "id": "qjsMxJJn0O-v"
   },
   "outputs": [],
   "source": [
    "df[\"same_ultimate_company\"] = df[\"Global Ultimate Company\"] == df[\"Domestic Ultimate Company\"]"
   ]
  },
  {
   "cell_type": "code",
   "execution_count": 10,
   "metadata": {
    "executionInfo": {
     "elapsed": 4,
     "status": "ok",
     "timestamp": 1706542394727,
     "user": {
      "displayName": "Kaung Htet Wai Yan",
      "userId": "02128948019834248581"
     },
     "user_tz": -480
    },
    "id": "voQWd_HWD5cW"
   },
   "outputs": [],
   "source": [
    "df['sector'] = df['SIC Code'].apply(lambda x:\n",
    "    'Agriculture, Forestry and Fishing' if x < 1000 else\n",
    "    'Mining' if x < 1500 else\n",
    "    'Construction' if x < 1800 else\n",
    "    'not used' if x < 2000 else\n",
    "    'Manufacturing' if x < 4000 else\n",
    "    'Transportation, Communications, Electric, Gas and Sanitary service' if x < 5000 else\n",
    "    'Wholesale Trade' if x < 5200 else\n",
    "    'Retail Trade' if x < 6000 else\n",
    "    'Finance, Insurance and Real Estate' if x < 6800 else\n",
    "    'Services' if x < 9000 else\n",
    "    'Public Administration' if x <= 9729 else\n",
    "    'Nonclassifiable'\n",
    ")"
   ]
  },
  {
   "cell_type": "markdown",
   "metadata": {
    "id": "cUr2-efKbGrf"
   },
   "source": [
    "Next, we create more columns `par_country_sg` and `glob_country_sg` to hold the boolean result of asking if \"Parent Country is Singapore\" and \"Global Ultimate Country is Singapore\" respectively.\n",
    "\n"
   ]
  },
  {
   "cell_type": "code",
   "execution_count": 11,
   "metadata": {
    "executionInfo": {
     "elapsed": 4,
     "status": "ok",
     "timestamp": 1706542394727,
     "user": {
      "displayName": "Kaung Htet Wai Yan",
      "userId": "02128948019834248581"
     },
     "user_tz": -480
    },
    "id": "_z3sHPSO-aC1"
   },
   "outputs": [],
   "source": [
    "df['par_country_sg'] = df['Parent Country'] == 'Singapore'\n",
    "df['glob_country_sg'] = df['Global Ultimate Country'] == 'Singapore'\n"
   ]
  },
  {
   "cell_type": "code",
   "execution_count": 12,
   "metadata": {
    "executionInfo": {
     "elapsed": 3,
     "status": "ok",
     "timestamp": 1706542394727,
     "user": {
      "displayName": "Kaung Htet Wai Yan",
      "userId": "02128948019834248581"
     },
     "user_tz": -480
    },
    "id": "jCDpzNv3qn81"
   },
   "outputs": [],
   "source": [
    "df['same_employees'] = df['Employees (Domestic Ultimate Total)'] == df['Employees (Global Ultimate Total)']\n",
    "df['same_sales'] = df['Sales (Domestic Ultimate Total USD)'] == df['Sales (Global Ultimate Total USD)']"
   ]
  },
  {
   "cell_type": "markdown",
   "metadata": {
    "id": "IFst5oLlV8jr"
   },
   "source": [
    "Having converted the SIC codes into binary features describing the sectors of the company, `SIC code`,`Industry`, and `8-Digit SIC Code` can now be dropped.\n",
    "\n",
    "The remaining categorical columns which include (`Parent Company`,\n",
    "                      `Parent Country,`\n",
    "                      `Global Ultimate Company`,\n",
    "                      `Global Ultimate Country`,\n",
    "                      `Domestic Ultimate Company`) have been feature-engineered into other binary columns previously, allowing us to drop them. Now we have just columns of integer inputs suitable for machine learning models."
   ]
  },
  {
   "cell_type": "code",
   "execution_count": 13,
   "metadata": {
    "executionInfo": {
     "elapsed": 3,
     "status": "ok",
     "timestamp": 1706542394727,
     "user": {
      "displayName": "Kaung Htet Wai Yan",
      "userId": "02128948019834248581"
     },
     "user_tz": -480
    },
    "id": "D01uQa7K47Zd"
   },
   "outputs": [],
   "source": [
    "df = df.drop(columns=['SIC Code',\n",
    "                      'Industry',\n",
    "                      '8-Digit SIC Code',\n",
    "                      'Parent Company',\n",
    "                      'Parent Country',\n",
    "                      'Global Ultimate Company',\n",
    "                      'Global Ultimate Country',\n",
    "                      'Domestic Ultimate Company'])"
   ]
  },
  {
   "cell_type": "markdown",
   "metadata": {
    "id": "zmFUWERJ1gY4"
   },
   "source": [
    "## Data cleaning\n",
    "Now we have to handle missing values in the columns that we have kept."
   ]
  },
  {
   "cell_type": "code",
   "execution_count": 14,
   "metadata": {
    "colab": {
     "base_uri": "https://localhost:8080/"
    },
    "executionInfo": {
     "elapsed": 3,
     "status": "ok",
     "timestamp": 1706542394727,
     "user": {
      "displayName": "Kaung Htet Wai Yan",
      "userId": "02128948019834248581"
     },
     "user_tz": -480
    },
    "id": "G2GJ_vhjf1pb",
    "outputId": "fbbea7fd-efe8-4763-ecb8-ea7d073db188"
   },
   "outputs": [
    {
     "name": "stdout",
     "output_type": "stream",
     "text": [
      "Employees (Global Ultimate Total)      2774\n",
      "Year Found                              434\n",
      "Employees (Domestic Ultimate Total)      79\n",
      "Entity Type                               0\n",
      "Ownership Type                            0\n",
      "Sales (Domestic Ultimate Total USD)       0\n",
      "Sales (Global Ultimate Total USD)         0\n",
      "Is Domestic Ultimate                      0\n",
      "Is Global Ultimate                        0\n",
      "same_ultimate_company                     0\n",
      "sector                                    0\n",
      "par_country_sg                            0\n",
      "glob_country_sg                           0\n",
      "same_employees                            0\n",
      "same_sales                                0\n",
      "dtype: int64\n"
     ]
    }
   ],
   "source": [
    "print(df.isna().sum().sort_values(ascending=False))"
   ]
  },
  {
   "cell_type": "code",
   "execution_count": 15,
   "metadata": {
    "executionInfo": {
     "elapsed": 538,
     "status": "ok",
     "timestamp": 1706542395262,
     "user": {
      "displayName": "Kaung Htet Wai Yan",
      "userId": "02128948019834248581"
     },
     "user_tz": -480
    },
    "id": "0qFPv90lwwwC"
   },
   "outputs": [],
   "source": [
    "from sklearn.impute import SimpleImputer\n",
    "\n",
    "df_num = df[[\"Year Found\", \"Employees (Domestic Ultimate Total)\", \"Employees (Global Ultimate Total)\",\n",
    "            \"Sales (Global Ultimate Total USD)\"]]\n",
    "df_cat = df[[\"Entity Type\", \"Ownership Type\", \"sector\"]]\n",
    "IMP_NUM = SimpleImputer(strategy=\"median\")\n",
    "IMP_CAT = SimpleImputer(strategy=\"most_frequent\")\n",
    "df.loc[:,df_num.columns] = IMP_NUM.fit_transform(df_num)\n",
    "df.loc[:,df_cat.columns] = IMP_CAT.fit_transform(df_cat)"
   ]
  },
  {
   "cell_type": "code",
   "execution_count": 16,
   "metadata": {
    "colab": {
     "base_uri": "https://localhost:8080/"
    },
    "executionInfo": {
     "elapsed": 7,
     "status": "ok",
     "timestamp": 1706542395594,
     "user": {
      "displayName": "Kaung Htet Wai Yan",
      "userId": "02128948019834248581"
     },
     "user_tz": -480
    },
    "id": "brcAurCQxLfA",
    "outputId": "eec5ca28-9b67-4624-84a9-c2565a99ab6c"
   },
   "outputs": [
    {
     "name": "stdout",
     "output_type": "stream",
     "text": [
      "Year Found                             0\n",
      "Entity Type                            0\n",
      "Ownership Type                         0\n",
      "Employees (Domestic Ultimate Total)    0\n",
      "Employees (Global Ultimate Total)      0\n",
      "Sales (Domestic Ultimate Total USD)    0\n",
      "Sales (Global Ultimate Total USD)      0\n",
      "Is Domestic Ultimate                   0\n",
      "Is Global Ultimate                     0\n",
      "same_ultimate_company                  0\n",
      "sector                                 0\n",
      "par_country_sg                         0\n",
      "glob_country_sg                        0\n",
      "same_employees                         0\n",
      "same_sales                             0\n",
      "dtype: int64\n"
     ]
    }
   ],
   "source": [
    "print(df.isna().sum().sort_values(ascending=False))"
   ]
  },
  {
   "cell_type": "markdown",
   "metadata": {
    "id": "7v7un2U32e-r"
   },
   "source": [
    "### Encoding Categorical Features"
   ]
  },
  {
   "cell_type": "code",
   "execution_count": 17,
   "metadata": {
    "colab": {
     "base_uri": "https://localhost:8080/"
    },
    "executionInfo": {
     "elapsed": 5,
     "status": "ok",
     "timestamp": 1706542395594,
     "user": {
      "displayName": "Kaung Htet Wai Yan",
      "userId": "02128948019834248581"
     },
     "user_tz": -480
    },
    "id": "I8jDHRMtCEBA",
    "outputId": "34645a26-a8f7-4031-c7cf-97682dd07fde"
   },
   "outputs": [
    {
     "name": "stdout",
     "output_type": "stream",
     "text": [
      "<class 'pandas.core.frame.DataFrame'>\n",
      "RangeIndex: 29182 entries, 0 to 29181\n",
      "Data columns (total 15 columns):\n",
      " #   Column                               Non-Null Count  Dtype  \n",
      "---  ------                               --------------  -----  \n",
      " 0   Year Found                           29182 non-null  float64\n",
      " 1   Entity Type                          29182 non-null  object \n",
      " 2   Ownership Type                       29182 non-null  object \n",
      " 3   Employees (Domestic Ultimate Total)  29182 non-null  float64\n",
      " 4   Employees (Global Ultimate Total)    29182 non-null  float64\n",
      " 5   Sales (Domestic Ultimate Total USD)  29182 non-null  float64\n",
      " 6   Sales (Global Ultimate Total USD)    29182 non-null  float64\n",
      " 7   Is Domestic Ultimate                 29182 non-null  float64\n",
      " 8   Is Global Ultimate                   29182 non-null  float64\n",
      " 9   same_ultimate_company                29182 non-null  bool   \n",
      " 10  sector                               29182 non-null  object \n",
      " 11  par_country_sg                       29182 non-null  bool   \n",
      " 12  glob_country_sg                      29182 non-null  bool   \n",
      " 13  same_employees                       29182 non-null  bool   \n",
      " 14  same_sales                           29182 non-null  bool   \n",
      "dtypes: bool(5), float64(7), object(3)\n",
      "memory usage: 2.4+ MB\n"
     ]
    }
   ],
   "source": [
    "df.info()"
   ]
  },
  {
   "cell_type": "markdown",
   "metadata": {
    "id": "Hr2Ux9I2vaHY"
   },
   "source": [
    "Since we still have columns which are categorical, all we need to do is apply one-hot encoding to convert the categories into integer features which are suitable for machine learning models."
   ]
  },
  {
   "cell_type": "code",
   "execution_count": 18,
   "metadata": {
    "colab": {
     "base_uri": "https://localhost:8080/"
    },
    "executionInfo": {
     "elapsed": 4,
     "status": "ok",
     "timestamp": 1706542395594,
     "user": {
      "displayName": "Kaung Htet Wai Yan",
      "userId": "02128948019834248581"
     },
     "user_tz": -480
    },
    "id": "tEQcUvykIIZw",
    "outputId": "8d04cc2f-8227-49e8-f955-add5f7eeed81"
   },
   "outputs": [
    {
     "name": "stdout",
     "output_type": "stream",
     "text": [
      "<class 'pandas.core.frame.DataFrame'>\n",
      "RangeIndex: 29182 entries, 0 to 29181\n",
      "Data columns (total 29 columns):\n",
      " #   Column                                                                     Non-Null Count  Dtype  \n",
      "---  ------                                                                     --------------  -----  \n",
      " 0   Year Found                                                                 29182 non-null  float64\n",
      " 1   Employees (Domestic Ultimate Total)                                        29182 non-null  float64\n",
      " 2   Employees (Global Ultimate Total)                                          29182 non-null  float64\n",
      " 3   Sales (Domestic Ultimate Total USD)                                        29182 non-null  float64\n",
      " 4   Sales (Global Ultimate Total USD)                                          29182 non-null  float64\n",
      " 5   Is Domestic Ultimate                                                       29182 non-null  float64\n",
      " 6   Is Global Ultimate                                                         29182 non-null  float64\n",
      " 7   same_ultimate_company                                                      29182 non-null  bool   \n",
      " 8   par_country_sg                                                             29182 non-null  bool   \n",
      " 9   glob_country_sg                                                            29182 non-null  bool   \n",
      " 10  same_employees                                                             29182 non-null  bool   \n",
      " 11  same_sales                                                                 29182 non-null  bool   \n",
      " 12  sector_Construction                                                        29182 non-null  uint8  \n",
      " 13  sector_Finance, Insurance and Real Estate                                  29182 non-null  uint8  \n",
      " 14  sector_Manufacturing                                                       29182 non-null  uint8  \n",
      " 15  sector_Mining                                                              29182 non-null  uint8  \n",
      " 16  sector_Public Administration                                               29182 non-null  uint8  \n",
      " 17  sector_Retail Trade                                                        29182 non-null  uint8  \n",
      " 18  sector_Services                                                            29182 non-null  uint8  \n",
      " 19  sector_Transportation, Communications, Electric, Gas and Sanitary service  29182 non-null  uint8  \n",
      " 20  sector_Wholesale Trade                                                     29182 non-null  uint8  \n",
      " 21  Entity Type_Independent                                                    29182 non-null  uint8  \n",
      " 22  Entity Type_Parent                                                         29182 non-null  uint8  \n",
      " 23  Entity Type_Subsidiary                                                     29182 non-null  uint8  \n",
      " 24  Ownership Type_Nonprofit                                                   29182 non-null  uint8  \n",
      " 25  Ownership Type_Partnership                                                 29182 non-null  uint8  \n",
      " 26  Ownership Type_Private                                                     29182 non-null  uint8  \n",
      " 27  Ownership Type_Public                                                      29182 non-null  uint8  \n",
      " 28  Ownership Type_Public Sector                                               29182 non-null  uint8  \n",
      "dtypes: bool(5), float64(7), uint8(17)\n",
      "memory usage: 2.2 MB\n"
     ]
    }
   ],
   "source": [
    "df = pd.get_dummies(df, columns=[\"sector\", \"Entity Type\", \"Ownership Type\"], drop_first=True)\n",
    "df.info()"
   ]
  },
  {
   "cell_type": "markdown",
   "metadata": {
    "id": "ouWf4I-SZBVD"
   },
   "source": [
    "## An important discovery"
   ]
  },
  {
   "cell_type": "markdown",
   "metadata": {
    "id": "yL7Fg30csxkr"
   },
   "source": [
    "From the correlation matrix above, we observed that among the variables against `Sales (Domestic Ultimate Total USD)`, `Sales (Global Ultimate Total USD)` has the highest correlation.\n",
    "\n",
    "Further inspection of the rows reveal that **many of the rows have** in fact **equal values** of these 2 features. Given the nature of international and domestic income streams, this clue incentivised us to investigate the exact relationship between these features.\n",
    "\n"
   ]
  },
  {
   "cell_type": "code",
   "execution_count": 19,
   "metadata": {
    "colab": {
     "base_uri": "https://localhost:8080/"
    },
    "executionInfo": {
     "elapsed": 522,
     "status": "ok",
     "timestamp": 1706542396114,
     "user": {
      "displayName": "Kaung Htet Wai Yan",
      "userId": "02128948019834248581"
     },
     "user_tz": -480
    },
    "id": "eiHOnOiVt-c4",
    "outputId": "b34cd947-5fc7-42ff-b9ef-39e8a29d4958"
   },
   "outputs": [
    {
     "name": "stdout",
     "output_type": "stream",
     "text": [
      "19613 out of 29182 rows have equal Domestic Ultimate and Global Ultimate sales.\n"
     ]
    }
   ],
   "source": [
    "df_same_sales = df[df[\"Sales (Domestic Ultimate Total USD)\"] == df[\"Sales (Global Ultimate Total USD)\"]]\n",
    "print(\"{} out of {} rows have equal Domestic Ultimate and Global Ultimate sales.\".format(df_same_sales.shape[0], df.shape[0]))"
   ]
  },
  {
   "cell_type": "markdown",
   "metadata": {
    "id": "2iV7_sejuWDr"
   },
   "source": [
    "Out of these rows, we also realise that a substantial amount has the same `Global Ultimate Company` and `Domestic Ultimate Company` entries."
   ]
  },
  {
   "cell_type": "code",
   "execution_count": 20,
   "metadata": {
    "colab": {
     "base_uri": "https://localhost:8080/"
    },
    "executionInfo": {
     "elapsed": 3,
     "status": "ok",
     "timestamp": 1706542396114,
     "user": {
      "displayName": "Kaung Htet Wai Yan",
      "userId": "02128948019834248581"
     },
     "user_tz": -480
    },
    "id": "eu7uJ7uIwK4g",
    "outputId": "4436d96b-63f2-45ea-c214-fb4af764f915"
   },
   "outputs": [
    {
     "name": "stdout",
     "output_type": "stream",
     "text": [
      "18566 out of 19613 rows with same sales have the same Global Ultimate and Domestic Ultimate company.\n"
     ]
    }
   ],
   "source": [
    "print(\"{} out of {} rows with same sales have the same Global Ultimate and Domestic Ultimate company.\".format(df.same_ultimate_company.sum(), df_same_sales.shape[0]))"
   ]
  },
  {
   "cell_type": "markdown",
   "metadata": {
    "id": "qhRb4NFLfdTo"
   },
   "source": [
    "Digging deeper, we realise that a few other features can also help predict whether a company is of the type to have equal domestic and global sales."
   ]
  },
  {
   "cell_type": "code",
   "execution_count": 21,
   "metadata": {
    "colab": {
     "base_uri": "https://localhost:8080/"
    },
    "executionInfo": {
     "elapsed": 2,
     "status": "ok",
     "timestamp": 1706542396114,
     "user": {
      "displayName": "Kaung Htet Wai Yan",
      "userId": "02128948019834248581"
     },
     "user_tz": -480
    },
    "id": "YkHeqwbyfyvt",
    "outputId": "da9af4c6-812d-49cb-89bc-1ef51849c70f"
   },
   "outputs": [
    {
     "name": "stdout",
     "output_type": "stream",
     "text": [
      "19136 out of 19613 rows with same sales have parent countries listed as Singapore\n",
      "--------------------------------------------------------------------------------\n",
      "19172 out of 19613 rows with same sales have global ultimate countries listed as Singapore\n",
      "--------------------------------------------------------------------------------\n",
      "19554 out of 19613 rows with same sales have same domestic and global employee numbers\n",
      "--------------------------------------------------------------------------------\n"
     ]
    }
   ],
   "source": [
    "both_true_count = (df['same_sales'] & df['par_country_sg']).sum()\n",
    "print(\"{} out of {} rows with same sales have parent countries listed as Singapore\".format(both_true_count, df.same_sales.sum()))\n",
    "print('-'*80)\n",
    "\n",
    "both_true_count = (df['same_sales'] & df['glob_country_sg']).sum()\n",
    "print(\"{} out of {} rows with same sales have global ultimate countries listed as Singapore\".format(both_true_count, df.same_sales.sum()))\n",
    "print('-'*80)\n",
    "\n",
    "both_true_count = (df['same_sales'] & df['same_employees']).sum()\n",
    "print(\"{} out of {} rows with same sales have same domestic and global employee numbers\".format(both_true_count, df.same_sales.sum()))\n",
    "print('-'*80)\n"
   ]
  },
  {
   "cell_type": "markdown",
   "metadata": {
    "id": "N7d3DfWXjV5A"
   },
   "source": [
    "Let's lay this out onto a heatmap again"
   ]
  },
  {
   "cell_type": "code",
   "execution_count": 22,
   "metadata": {
    "colab": {
     "base_uri": "https://localhost:8080/",
     "height": 1000
    },
    "executionInfo": {
     "elapsed": 2337,
     "status": "ok",
     "timestamp": 1706542398449,
     "user": {
      "displayName": "Kaung Htet Wai Yan",
      "userId": "02128948019834248581"
     },
     "user_tz": -480
    },
    "id": "th_7pzJYjZkC",
    "outputId": "84a2e3d8-4da3-47bf-a243-0f637ab9d74c"
   },
   "outputs": [
    {
     "name": "stdout",
     "output_type": "stream",
     "text": [
      "                                     Year Found  Employees (Domestic Ultimate Total)  Employees (Global Ultimate Total)  Sales (Domestic Ultimate Total USD)  Sales (Global Ultimate Total USD)  Is Domestic Ultimate  Is Global Ultimate  same_ultimate_company  par_country_sg  glob_country_sg  same_employees  same_sales\n",
      "Year Found                             1.000000                            -0.045881                          -0.024488                             0.014334                          -0.021866              0.074757            0.110308               0.012058        0.003742         0.009385        0.024548    0.024706\n",
      "Employees (Domestic Ultimate Total)   -0.045881                             1.000000                           0.019815                             0.016905                           0.024370             -0.060379           -0.044232               0.001020        0.018779         0.002363        0.004957    0.004824\n",
      "Employees (Global Ultimate Total)     -0.024488                             0.019815                           1.000000                            -0.003559                           0.538928              0.064662           -0.077168              -0.189326       -0.163577        -0.197406       -0.204778   -0.204925\n",
      "Sales (Domestic Ultimate Total USD)    0.014334                             0.016905                          -0.003559                             1.000000                           0.098110             -0.054561           -0.039314              -0.024276        0.008709        -0.026578       -0.028259   -0.028481\n",
      "Sales (Global Ultimate Total USD)     -0.021866                             0.024370                           0.538928                             0.098110                           1.000000              0.038558           -0.096102              -0.203625       -0.145667        -0.213732       -0.221094   -0.221674\n",
      "Is Domestic Ultimate                   0.074757                            -0.060379                           0.064662                            -0.054561                           0.038558              1.000000            0.588429              -0.282535       -0.516734        -0.336209       -0.361874   -0.366268\n",
      "Is Global Ultimate                     0.110308                            -0.044232                          -0.077168                            -0.039314                          -0.096102              0.588429            1.000000               0.407862        0.317417         0.384705        0.370120    0.372160\n",
      "same_ultimate_company                  0.012058                             0.001020                          -0.189326                            -0.024276                          -0.203625             -0.282535            0.407862               1.000000        0.796676         0.949716        0.912989    0.920533\n",
      "par_country_sg                         0.003742                             0.018779                          -0.163577                             0.008709                          -0.145667             -0.516734            0.317417               0.796676        1.000000         0.838968        0.786822    0.793819\n",
      "glob_country_sg                        0.009385                             0.002363                          -0.197406                            -0.026578                          -0.213732             -0.336209            0.384705               0.949716        0.838968         1.000000        0.954064    0.961696\n",
      "same_employees                         0.024548                             0.004957                          -0.204778                            -0.028259                          -0.221094             -0.361874            0.370120               0.912989        0.786822         0.954064        1.000000    0.991528\n",
      "same_sales                             0.024706                             0.004824                          -0.204925                            -0.028481                          -0.221674             -0.366268            0.372160               0.920533        0.793819         0.961696        0.991528    1.000000\n"
     ]
    },
    {
     "data": {
      "text/plain": [
       "<AxesSubplot:>"
      ]
     },
     "execution_count": 22,
     "metadata": {},
     "output_type": "execute_result"
    },
    {
     "data": {
      "image/png": "[encoded data removed]",
      "text/plain": [
       "<Figure size 1000x800 with 2 Axes>"
      ]
     },
     "metadata": {},
     "output_type": "display_data"
    }
   ],
   "source": [
    "pd.set_option('display.expand_frame_repr', False)\n",
    "\n",
    "f, ax = plt.subplots(figsize=(10, 8))\n",
    "corr = df.corr()\n",
    "first_10 = corr.columns[:12]\n",
    "corr = corr.loc[first_10, first_10]\n",
    "print(corr)\n",
    "\n",
    "sns.heatmap(corr,\n",
    "    cmap=sns.diverging_palette(220, 10, as_cmap=True),\n",
    "    vmin=-1.0, vmax=1.0,\n",
    "    square=True, ax=ax)"
   ]
  },
  {
   "cell_type": "markdown",
   "metadata": {
    "id": "6Vofiy7HxJTz"
   },
   "source": [
    "We contemplated whether all of these patterns are linked to the header definitions provided by the dataset source, shown here:\n",
    "\n",
    "\n",
    "---\n",
    "\n",
    "\n",
    "**Sales (Domestic Ultimate Total)** - Total sales for all entities that report to the highest ranking member of a Corporate Family Tree within the same country/region within a limb of a Corporate Family. This represents the sales of the global ultimate entity itself, which in some cases may be a group consolidated figure.\n",
    "\n",
    "**Sales (Global Ultimate Total)** – Total Sales of the Global Ultimate Company. This represents the sales of the global ultimate entity itself, which in some cases may be a group consolidated figure\n",
    "\n",
    "\n",
    "---\n",
    "\n",
    "\n",
    "This made us realise that the reason why companies whose global ultimate company are also their domestic ultimate company almost always (94.6% of the time) reports their global sales as their domestic sales, could be due to the fact that these companies have their top-level headquarters situated in Singapore. This means that they are possibly required to declare their global sales as their domestic sales as well. We theorise that this is due to these companies being subject to the financial jurisdiction of Singapore.\n",
    "\n",
    "These findings were compelling, and since we discovered that there is a category of companies that will report their global sales as domestic sales, we can attempt to predict whether companies we are testing in the future will fall under this category. If they do, we will be able to predict their domestic sales with almost absolute certainty."
   ]
  },
  {
   "cell_type": "markdown",
   "metadata": {
    "id": "tjgBXs2WwFrY"
   },
   "source": [
    "### Further rationalisation\n",
    "Singapore is also a highly globalised country with an export-oriented economy. The influence of exports on our economy is so strong that the Singapore dollar has to be pegged to a basket of foreign currencies so that its value does not fluctuate based on our import-export deficits. All of this translates to the tendency for Singaporean companies to receive most of their sales globally. This could explain why so many companies will report their domestic sales as their global sales"
   ]
  },
  {
   "cell_type": "markdown",
   "metadata": {
    "id": "Os3N60zHw7Jz"
   },
   "source": [
    "# Modelling\n",
    "\n",
    "Having identified the value of predicting companies that fall under the category of those that will report equal domestic and global sales, we decided to first use a **classifier** to predict whether future companies fall under this category. If the company does, its domestic sales shall be predicted as whichever their global sales are.\n",
    "\n",
    "If the company does not fall under that category, we will apply an appropriate regression model to attempt to predict the domestic sales based on the rest of the integer features."
   ]
  },
  {
   "cell_type": "markdown",
   "metadata": {
    "id": "OnO8_-bm4TlU"
   },
   "source": [
    "## Classifier Model\n",
    "\n",
    "We chose random forest as our classifier because of its superior accuracy over simply using simple conditional statements or single decision tree. It boasts an accuracy of over 99.8%.\n",
    "\n",
    "Plus, random forest is an ensemble model which should help reduce overfitting, as compared to using a single decision tree."
   ]
  },
  {
   "cell_type": "markdown",
   "metadata": {
    "id": "d4nHvP9ZmwoH"
   },
   "source": [
    "#### Acquiring Target vs Features Dataset\n"
   ]
  },
  {
   "cell_type": "code",
   "execution_count": 23,
   "metadata": {
    "executionInfo": {
     "elapsed": 5,
     "status": "ok",
     "timestamp": 1706542398450,
     "user": {
      "displayName": "Kaung Htet Wai Yan",
      "userId": "02128948019834248581"
     },
     "user_tz": -480
    },
    "id": "Vz6-2qSxeo6-"
   },
   "outputs": [],
   "source": [
    "from sklearn.model_selection import RandomizedSearchCV, KFold\n",
    "from sklearn.ensemble import RandomForestClassifier\n",
    "from sklearn.metrics import accuracy_score, confusion_matrix, classification_report\n",
    "import seaborn as sns\n",
    "\n",
    "df_features = df.drop(columns = ['same_sales', 'Sales (Domestic Ultimate Total USD)']).values\n",
    "df_target = df[['same_sales']].values.ravel()"
   ]
  },
  {
   "cell_type": "markdown",
   "metadata": {
    "id": "ZcU1qMD8miQg"
   },
   "source": [
    "#### Hyperparameter Tuning - RandomizedSearchCV\n",
    "Using RandomizedSearchCV, we can acquire a lot of information on how to best tune our hyperparameters for our random forest classifier. Namely,\n",
    "- Best parameter values for our model\n",
    "- Mean scores for each Cross-Validation Fold\n",
    "- Standard Deviation scores for each Cross-Validation Fold\n",
    "- The code is commented out to reduce notebook run time"
   ]
  },
  {
   "cell_type": "code",
   "execution_count": 24,
   "metadata": {
    "executionInfo": {
     "elapsed": 5,
     "status": "ok",
     "timestamp": 1706542398450,
     "user": {
      "displayName": "Kaung Htet Wai Yan",
      "userId": "02128948019834248581"
     },
     "user_tz": -480
    },
    "id": "3j9XxMvHmfVr"
   },
   "outputs": [],
   "source": [
    "# param_dist = {'bootstrap': [True, False],\n",
    "#  'max_depth': [3,5,7],\n",
    "#  'min_samples_leaf': [3,5,7],\n",
    "#  'min_samples_split': [3,5,7],\n",
    "#  'n_estimators': [50,150,300]}\n",
    "\n",
    "# rf = RandomForestClassifier()\n",
    "\n",
    "# kf = KFold(n_splits=5, shuffle=True, random_state=300)\n",
    "# rand_search = RandomizedSearchCV(rf,\n",
    "#                                  param_distributions = param_dist,\n",
    "#                                  n_iter=5,\n",
    "#                                  cv=kf,\n",
    "#                                  scoring=\"accuracy\")\n",
    "# try2 = rand_search.fit(df_features, df_target)\n",
    "# print(\"Best parameters:\", try2.best_params_)\n",
    "# best_score = try2.best_score_\n",
    "# i = np.where(try2.cv_results_.get(\"mean_test_score\") == best_score)\n",
    "# print(\"Best Mean Accuracy:\", best_score)\n",
    "# print(\"Best Standard Deviation:\", try2.cv_results_.get(\"std_test_score\")[i])\n"
   ]
  },
  {
   "cell_type": "markdown",
   "metadata": {
    "id": "r3_sa9jfnOoT"
   },
   "source": [
    "#### Model Confusion Matrix and Classification Report"
   ]
  },
  {
   "cell_type": "code",
   "execution_count": 25,
   "metadata": {
    "colab": {
     "base_uri": "https://localhost:8080/",
     "height": 586
    },
    "executionInfo": {
     "elapsed": 3749,
     "status": "ok",
     "timestamp": 1706542402195,
     "user": {
      "displayName": "Kaung Htet Wai Yan",
      "userId": "02128948019834248581"
     },
     "user_tz": -480
    },
    "id": "ZLTDPicpmwBp",
    "outputId": "fd22b887-750a-4f5a-95ec-b22cf6be4ba0"
   },
   "outputs": [
    {
     "name": "stdout",
     "output_type": "stream",
     "text": [
      "              precision    recall  f1-score   support\n",
      "\n",
      "       False     0.9986    0.9976    0.9981      2871\n",
      "        True     0.9988    0.9993    0.9991      5884\n",
      "\n",
      "    accuracy                         0.9987      8755\n",
      "   macro avg     0.9987    0.9984    0.9986      8755\n",
      "weighted avg     0.9987    0.9987    0.9987      8755\n",
      "\n"
     ]
    },
    {
     "data": {
      "image/png": "[encoded data removed]",
      "text/plain": [
       "<Figure size 640x480 with 2 Axes>"
      ]
     },
     "metadata": {},
     "output_type": "display_data"
    }
   ],
   "source": [
    "from sklearn.model_selection import train_test_split\n",
    "rf = RandomForestClassifier(n_estimators=150, min_samples_split=5, min_samples_leaf=3, max_depth= 5, bootstrap=False)\n",
    "X_train, X_test, y_train, y_test = train_test_split(df_features, df_target, test_size=0.3, random_state=300, stratify=df_target)\n",
    "rf.fit(X_train, y_train)\n",
    "df_target_pred = rf.predict(X_test)\n",
    "matrix = confusion_matrix(y_test, df_target_pred)\n",
    "sns.heatmap(matrix, annot=True, annot_kws={'size':10},\n",
    "            cmap=plt.cm.Reds)\n",
    "classification_report_rf = classification_report(y_test, df_target_pred, digits=4)\n",
    "print(classification_report_rf)"
   ]
  },
  {
   "cell_type": "markdown",
   "metadata": {
    "id": "jEi7eyVS5kzo"
   },
   "source": [
    "Random Forest Classifier Data Visualisation"
   ]
  },
  {
   "cell_type": "code",
   "execution_count": 26,
   "metadata": {
    "colab": {
     "base_uri": "https://localhost:8080/",
     "height": 1000
    },
    "executionInfo": {
     "elapsed": 1712,
     "status": "ok",
     "timestamp": 1706542403903,
     "user": {
      "displayName": "Kaung Htet Wai Yan",
      "userId": "02128948019834248581"
     },
     "user_tz": -480
    },
    "id": "RScYyt52SUTO",
    "outputId": "6fc9a357-2fed-46d7-9f73-eb89f8082a4c"
   },
   "outputs": [
    {
     "data": {
      "text/plain": [
       "[Text(0.5, 0.875, 'sector_Construction <= 0.5\\ngini = 0.441\\nsamples = 100.0%\\nvalue = [0.328, 0.672]'),\n",
       " Text(0.25, 0.625, 'Is Global Ultimate <= 0.5\\ngini = 0.481\\nsamples = 64.6%\\nvalue = [0.402, 0.598]'),\n",
       " Text(0.125, 0.375, 'Sales (Global Ultimate Total USD) <= 0.5\\ngini = 0.126\\nsamples = 27.8%\\nvalue = [0.932, 0.068]'),\n",
       " Text(0.0625, 0.125, '\\n  (...)  \\n'),\n",
       " Text(0.1875, 0.125, '\\n  (...)  \\n'),\n",
       " Text(0.375, 0.375, 'glob_country_sg <= 0.5\\ngini = 0.003\\nsamples = 36.8%\\nvalue = [0.002, 0.998]'),\n",
       " Text(0.3125, 0.125, '\\n  (...)  \\n'),\n",
       " Text(0.4375, 0.125, '\\n  (...)  \\n'),\n",
       " Text(0.75, 0.625, 'Year Found <= 2016.5\\ngini = 0.311\\nsamples = 35.4%\\nvalue = [0.193, 0.807]'),\n",
       " Text(0.625, 0.375, 'glob_country_sg <= 0.5\\ngini = 0.326\\nsamples = 27.0%\\nvalue = [0.205, 0.795]'),\n",
       " Text(0.5625, 0.125, '\\n  (...)  \\n'),\n",
       " Text(0.6875, 0.125, '\\n  (...)  \\n'),\n",
       " Text(0.875, 0.375, 'glob_country_sg <= 0.5\\ngini = 0.26\\nsamples = 8.5%\\nvalue = [0.153, 0.847]'),\n",
       " Text(0.8125, 0.125, '\\n  (...)  \\n'),\n",
       " Text(0.9375, 0.125, '\\n  (...)  \\n')]"
      ]
     },
     "execution_count": 26,
     "metadata": {},
     "output_type": "execute_result"
    },
    {
     "data": {
      "image/png": "[encoded data removed]",
      "text/plain": [
       "<Figure size 1500x1000 with 1 Axes>"
      ]
     },
     "metadata": {},
     "output_type": "display_data"
    }
   ],
   "source": [
    "from sklearn import tree\n",
    "\n",
    "plt.figure(figsize=(15,10))\n",
    "tree.plot_tree(rf.estimators_[1],\n",
    "               max_depth = 2,\n",
    "               fontsize = 6,\n",
    "               proportion = True,\n",
    "               filled = True,\n",
    "               feature_names = df.drop(columns = ['same_sales']).columns)"
   ]
  },
  {
   "cell_type": "code",
   "execution_count": 27,
   "metadata": {
    "colab": {
     "base_uri": "https://localhost:8080/",
     "height": 92
    },
    "executionInfo": {
     "elapsed": 4535,
     "status": "ok",
     "timestamp": 1706542408434,
     "user": {
      "displayName": "Kaung Htet Wai Yan",
      "userId": "02128948019834248581"
     },
     "user_tz": -480
    },
    "id": "kfJEOfKpiF8-",
    "outputId": "cc934d76-7002-4c2a-906f-1d2b6aa159ce"
   },
   "outputs": [
    {
     "data": {
      "text/html": [
       "<style>#sk-container-id-1 {color: black;}#sk-container-id-1 pre{padding: 0;}#sk-container-id-1 div.sk-toggleable {background-color: white;}#sk-container-id-1 label.sk-toggleable__label {cursor: pointer;display: block;width: 100%;margin-bottom: 0;padding: 0.3em;box-sizing: border-box;text-align: center;}#sk-container-id-1 label.sk-toggleable__label-arrow:before {content: \"▸\";float: left;margin-right: 0.25em;color: #696969;}#sk-container-id-1 label.sk-toggleable__label-arrow:hover:before {color: black;}#sk-container-id-1 div.sk-estimator:hover label.sk-toggleable__label-arrow:before {color: black;}#sk-container-id-1 div.sk-toggleable__content {max-height: 0;max-width: 0;overflow: hidden;text-align: left;background-color: #f0f8ff;}#sk-container-id-1 div.sk-toggleable__content pre {margin: 0.2em;color: black;border-radius: 0.25em;background-color: #f0f8ff;}#sk-container-id-1 input.sk-toggleable__control:checked~div.sk-toggleable__content {max-height: 200px;max-width: 100%;overflow: auto;}#sk-container-id-1 input.sk-toggleable__control:checked~label.sk-toggleable__label-arrow:before {content: \"▾\";}#sk-container-id-1 div.sk-estimator input.sk-toggleable__control:checked~label.sk-toggleable__label {background-color: #d4ebff;}#sk-container-id-1 div.sk-label input.sk-toggleable__control:checked~label.sk-toggleable__label {background-color: #d4ebff;}#sk-container-id-1 input.sk-hidden--visually {border: 0;clip: rect(1px 1px 1px 1px);clip: rect(1px, 1px, 1px, 1px);height: 1px;margin: -1px;overflow: hidden;padding: 0;position: absolute;width: 1px;}#sk-container-id-1 div.sk-estimator {font-family: monospace;background-color: #f0f8ff;border: 1px dotted black;border-radius: 0.25em;box-sizing: border-box;margin-bottom: 0.5em;}#sk-container-id-1 div.sk-estimator:hover {background-color: #d4ebff;}#sk-container-id-1 div.sk-parallel-item::after {content: \"\";width: 100%;border-bottom: 1px solid gray;flex-grow: 1;}#sk-container-id-1 div.sk-label:hover label.sk-toggleable__label {background-color: #d4ebff;}#sk-container-id-1 div.sk-serial::before {content: \"\";position: absolute;border-left: 1px solid gray;box-sizing: border-box;top: 0;bottom: 0;left: 50%;z-index: 0;}#sk-container-id-1 div.sk-serial {display: flex;flex-direction: column;align-items: center;background-color: white;padding-right: 0.2em;padding-left: 0.2em;position: relative;}#sk-container-id-1 div.sk-item {position: relative;z-index: 1;}#sk-container-id-1 div.sk-parallel {display: flex;align-items: stretch;justify-content: center;background-color: white;position: relative;}#sk-container-id-1 div.sk-item::before, #sk-container-id-1 div.sk-parallel-item::before {content: \"\";position: absolute;border-left: 1px solid gray;box-sizing: border-box;top: 0;bottom: 0;left: 50%;z-index: -1;}#sk-container-id-1 div.sk-parallel-item {display: flex;flex-direction: column;z-index: 1;position: relative;background-color: white;}#sk-container-id-1 div.sk-parallel-item:first-child::after {align-self: flex-end;width: 50%;}#sk-container-id-1 div.sk-parallel-item:last-child::after {align-self: flex-start;width: 50%;}#sk-container-id-1 div.sk-parallel-item:only-child::after {width: 0;}#sk-container-id-1 div.sk-dashed-wrapped {border: 1px dashed gray;margin: 0 0.4em 0.5em 0.4em;box-sizing: border-box;padding-bottom: 0.4em;background-color: white;}#sk-container-id-1 div.sk-label label {font-family: monospace;font-weight: bold;display: inline-block;line-height: 1.2em;}#sk-container-id-1 div.sk-label-container {text-align: center;}#sk-container-id-1 div.sk-container {/* jupyter's `normalize.less` sets `[hidden] { display: none; }` but bootstrap.min.css set `[hidden] { display: none !important; }` so we also need the `!important` here to be able to override the default hidden behavior on the sphinx rendered scikit-learn.org. See: https://github.com/scikit-learn/scikit-learn/issues/21755 */display: inline-block !important;position: relative;}#sk-container-id-1 div.sk-text-repr-fallback {display: none;}</style><div id=\"sk-container-id-1\" class=\"sk-top-container\"><div class=\"sk-text-repr-fallback\"><pre>RandomForestClassifier(bootstrap=False, max_depth=5, min_samples_leaf=3,\n",
       "                       min_samples_split=5, n_estimators=150)</pre><b>In a Jupyter environment, please rerun this cell to show the HTML representation or trust the notebook. <br />On GitHub, the HTML representation is unable to render, please try loading this page with nbviewer.org.</b></div><div class=\"sk-container\" hidden><div class=\"sk-item\"><div class=\"sk-estimator sk-toggleable\"><input class=\"sk-toggleable__control sk-hidden--visually\" id=\"sk-estimator-id-1\" type=\"checkbox\" checked><label for=\"sk-estimator-id-1\" class=\"sk-toggleable__label sk-toggleable__label-arrow\">RandomForestClassifier</label><div class=\"sk-toggleable__content\"><pre>RandomForestClassifier(bootstrap=False, max_depth=5, min_samples_leaf=3,\n",
       "                       min_samples_split=5, n_estimators=150)</pre></div></div></div></div></div>"
      ],
      "text/plain": [
       "RandomForestClassifier(bootstrap=False, max_depth=5, min_samples_leaf=3,\n",
       "                       min_samples_split=5, n_estimators=150)"
      ]
     },
     "execution_count": 27,
     "metadata": {},
     "output_type": "execute_result"
    }
   ],
   "source": [
    "CLASS_MODEL = RandomForestClassifier(n_estimators=150, min_samples_split=5, min_samples_leaf=3, max_depth= 5, bootstrap=False)\n",
    "CLASS_MODEL.fit(df_features, df_target)"
   ]
  },
  {
   "cell_type": "markdown",
   "metadata": {
    "id": "EWFLVrOj05Li"
   },
   "source": []
  },
  {
   "cell_type": "markdown",
   "metadata": {
    "id": "IOPaFjnZ4d3P"
   },
   "source": [
    "## Regression Model"
   ]
  },
  {
   "cell_type": "markdown",
   "metadata": {
    "id": "Gqgpaezly_RL"
   },
   "source": [
    "Now that our model can predict same-sales Companies accurately, we train a regression model to predict the rest of the data."
   ]
  },
  {
   "cell_type": "code",
   "execution_count": 28,
   "metadata": {
    "executionInfo": {
     "elapsed": 6,
     "status": "ok",
     "timestamp": 1706542408434,
     "user": {
      "displayName": "Kaung Htet Wai Yan",
      "userId": "02128948019834248581"
     },
     "user_tz": -480
    },
    "id": "dZ3-1aJvPJWE"
   },
   "outputs": [],
   "source": [
    "df_notsame = df[df['same_sales'] == False].copy()"
   ]
  },
  {
   "cell_type": "markdown",
   "metadata": {
    "id": "t5ZXBjGBf_g3"
   },
   "source": [
    "### Feature selection - Principle Component Analysis (PCA)\n",
    "\n",
    "With some research, we found that we could utilise PCA to handle multivariate datasets.PCA is a flexible tool that allows analysis of datasets that may contain multicollinearity, missing values, categorical data, and imprecise measurements.The most important use of PCA was to represent a multivariate data table as smaller set of variables in order to observe trends, clusters and outliers. This may uncover various relationships between observations and variables."
   ]
  },
  {
   "cell_type": "markdown",
   "metadata": {
    "id": "3jByO_40yyDa"
   },
   "source": [
    "First we separate features and the target variable."
   ]
  },
  {
   "cell_type": "code",
   "execution_count": 29,
   "metadata": {
    "executionInfo": {
     "elapsed": 5,
     "status": "ok",
     "timestamp": 1706542408434,
     "user": {
      "displayName": "Kaung Htet Wai Yan",
      "userId": "02128948019834248581"
     },
     "user_tz": -480
    },
    "id": "tWN6DZfqs6Cs"
   },
   "outputs": [],
   "source": [
    "X = df_notsame.drop(columns=['Sales (Domestic Ultimate Total USD)', 'same_sales']).values\n",
    "y = df_notsame['Sales (Domestic Ultimate Total USD)'].values.ravel()"
   ]
  },
  {
   "cell_type": "markdown",
   "metadata": {
    "id": "hwWD7MXFzQP9"
   },
   "source": [
    "We then standardize the features, which is an important step for PCA."
   ]
  },
  {
   "cell_type": "code",
   "execution_count": 30,
   "metadata": {
    "executionInfo": {
     "elapsed": 5,
     "status": "ok",
     "timestamp": 1706542408434,
     "user": {
      "displayName": "Kaung Htet Wai Yan",
      "userId": "02128948019834248581"
     },
     "user_tz": -480
    },
    "id": "CmtQtFvhs68Q"
   },
   "outputs": [],
   "source": [
    "from sklearn.preprocessing import StandardScaler\n",
    "\n",
    "REG_SCALER = StandardScaler()\n",
    "X = REG_SCALER.fit_transform(X)"
   ]
  },
  {
   "cell_type": "markdown",
   "metadata": {
    "id": "VcM-YpJjzuTx"
   },
   "source": [
    "To obtain the optimum number of PCA components, we plot an explained variance ratio graph."
   ]
  },
  {
   "cell_type": "code",
   "execution_count": 31,
   "metadata": {
    "colab": {
     "base_uri": "https://localhost:8080/",
     "height": 489
    },
    "executionInfo": {
     "elapsed": 4825,
     "status": "ok",
     "timestamp": 1706542413255,
     "user": {
      "displayName": "Kaung Htet Wai Yan",
      "userId": "02128948019834248581"
     },
     "user_tz": -480
    },
    "id": "GUN8wkPQsmLG",
    "outputId": "243e55b3-5bb9-466c-c9f9-f51c8bd525c7"
   },
   "outputs": [
    {
     "data": {
      "text/plain": [
       "Text(0.5, 1.0, 'n_components vs. Explained Variance Ratio')"
      ]
     },
     "execution_count": 31,
     "metadata": {},
     "output_type": "execute_result"
    },
    {
     "data": {
      "image/png": "[encoded data removed]",
      "text/plain": [
       "<Figure size 640x480 with 1 Axes>"
      ]
     },
     "metadata": {},
     "output_type": "display_data"
    }
   ],
   "source": [
    "from sklearn.decomposition import PCA\n",
    "\n",
    "var_ratio = []\n",
    "nums = np.arange(24)\n",
    "for num in nums:\n",
    "  pca = PCA(n_components=num)\n",
    "  pca.fit(X)\n",
    "  var_ratio.append(np.sum(pca.explained_variance_ratio_))\n",
    "\n",
    "# plt.figure(figsize=(4,2),dpi=150)\n",
    "plt.grid()\n",
    "plt.plot(nums,var_ratio,marker='o')\n",
    "plt.xlabel('n_components')\n",
    "plt.ylabel('Explained variance ratio')\n",
    "plt.title('n_components vs. Explained Variance Ratio')"
   ]
  },
  {
   "cell_type": "markdown",
   "metadata": {
    "id": "Nj9OptQ80FEQ"
   },
   "source": [
    "From the graph, we observe that the explained variance ratio tapers off at around 20 components. We thus choose 20 as our desired number of components."
   ]
  },
  {
   "cell_type": "code",
   "execution_count": 32,
   "metadata": {
    "executionInfo": {
     "elapsed": 7,
     "status": "ok",
     "timestamp": 1706542413256,
     "user": {
      "displayName": "Kaung Htet Wai Yan",
      "userId": "02128948019834248581"
     },
     "user_tz": -480
    },
    "id": "wxaPljc7ce3z"
   },
   "outputs": [],
   "source": [
    "REG_PCA = PCA(n_components=20)\n",
    "X = REG_PCA.fit_transform(X)"
   ]
  },
  {
   "cell_type": "markdown",
   "metadata": {
    "id": "-aE8STK8sSZO"
   },
   "source": [
    "### Ridge Regression\n",
    "We chose Ridge regression as a model to try, as it is a regularization technique commonly used in machine learning to address multicollinearity and prevent overfitting of models."
   ]
  },
  {
   "cell_type": "code",
   "execution_count": 33,
   "metadata": {
    "executionInfo": {
     "elapsed": 6,
     "status": "ok",
     "timestamp": 1706542413256,
     "user": {
      "displayName": "Kaung Htet Wai Yan",
      "userId": "02128948019834248581"
     },
     "user_tz": -480
    },
    "id": "VD2lOOzosSLz"
   },
   "outputs": [],
   "source": [
    "# from sklearn.linear_model import Ridge\n",
    "# from sklearn.model_selection import GridSearchCV\n",
    "\n",
    "# model = Ridge(solver='saga')\n",
    "# param_grid = {\"alpha\": [0.01, 0.1, 1, 10, 100, 1000]}\n",
    "# kf = KFold(n_splits=4, shuffle=True, random_state=300)\n",
    "# cv = GridSearchCV(model, param_grid, cv=kf)\n",
    "\n",
    "# cv.fit(X, y)\n",
    "\n",
    "# best_score = cv.best_score_\n",
    "# i = np.where(cv.cv_results_.get(\"mean_test_score\") == best_score)\n",
    "# print(\"Best parameters:\", cv.best_params_)\n",
    "# print(\"Best Mean r^2:\", best_score)\n",
    "# print(\"Best Standard Deviation:\", cv.cv_results_.get(\"std_test_score\")[i])"
   ]
  },
  {
   "cell_type": "markdown",
   "metadata": {
    "id": "Lg4TWwMIjwfL"
   },
   "source": [
    "Best parameters: {'alpha': 1000}\n",
    "\n",
    "---\n",
    "\n",
    "\n",
    "Best Mean r^2: 0.0.010476929608761953\n",
    "\n",
    "---\n",
    "\n",
    "\n",
    "Best Standard Deviation: [0.00328377]"
   ]
  },
  {
   "cell_type": "markdown",
   "metadata": {
    "id": "3fwvk9GE2GQy"
   },
   "source": [
    "###2. Gradient Boosting\n",
    "We also chose to try out Gradient Boosting Regressor as a model.Being an ensemble method, Gradient Boosting combines the strengths of multiple weak learners often resulting in better performance than individual models.\n"
   ]
  },
  {
   "cell_type": "code",
   "execution_count": 34,
   "metadata": {
    "executionInfo": {
     "elapsed": 6,
     "status": "ok",
     "timestamp": 1706542413256,
     "user": {
      "displayName": "Kaung Htet Wai Yan",
      "userId": "02128948019834248581"
     },
     "user_tz": -480
    },
    "id": "hBpsvvHdF4q9"
   },
   "outputs": [],
   "source": [
    "# from sklearn.model_selection import RandomizedSearchCV\n",
    "# from sklearn.ensemble import GradientBoostingRegressor\n",
    "# model = GradientBoostingRegressor()\n",
    "# grid = dict()\n",
    "# grid['n_estimators'] = [10, 50, 100, 500]\n",
    "# grid['learning_rate'] = [0.0001, 0.001, 0.01, 0.1, 1.0]\n",
    "# grid['subsample'] = [0.5, 0.7, 1.0]\n",
    "# grid['max_depth'] = [3, 7, 9]\n",
    "# kf = KFold(n_splits=4, shuffle=True, random_state=300)\n",
    "# cv = RandomizedSearchCV(model, grid, cv=kf)\n",
    "\n",
    "# cv.fit(X, y)\n",
    "\n",
    "# best_score = cv.best_score_\n",
    "# i = np.where(cv.cv_results_.get(\"mean_test_score\") == best_score)\n",
    "# print(\"Best parameters:\", cv.best_params_)\n",
    "# print(\"Best Mean r^2:\", best_score)\n",
    "# print(\"Best Standard Deviation:\", cv.cv_results_.get(\"std_test_score\")[i])"
   ]
  },
  {
   "cell_type": "markdown",
   "metadata": {
    "id": "fXe4ehL1-zwh"
   },
   "source": [
    "Best parameters: {'subsample': 1.0, 'n_estimators': 50, 'max_depth': 7, 'learning_rate': 0.01}\n",
    "\n",
    "---\n",
    "\n",
    "\n",
    "Best Mean r^2: 0.10559735821812219\n",
    "\n",
    "---\n",
    "\n",
    "\n",
    "Best Standard Deviation: [0.12334489]"
   ]
  },
  {
   "cell_type": "markdown",
   "metadata": {
    "id": "Ht0P_7zR2F_Q"
   },
   "source": [
    "### 3. Random Forest Regressor\n",
    "Finally, we also decided to implement Random Forest Regressor as a model. Random Forest Regressor tends to deliver high predictive accuracy as it is capable of capturing complex relationships and non-linear patterns in the data, making it suitable for a wide range of regression problems."
   ]
  },
  {
   "cell_type": "markdown",
   "metadata": {
    "id": "Ub62M5F7PWS3"
   },
   "source": [
    "Hyperparemeter tuning for Random Forest Regressor"
   ]
  },
  {
   "cell_type": "code",
   "execution_count": 35,
   "metadata": {
    "executionInfo": {
     "elapsed": 6,
     "status": "ok",
     "timestamp": 1706542413256,
     "user": {
      "displayName": "Kaung Htet Wai Yan",
      "userId": "02128948019834248581"
     },
     "user_tz": -480
    },
    "id": "wwxlpsmXPV7I"
   },
   "outputs": [],
   "source": [
    "# from sklearn.model_selection import RandomizedSearchCV\n",
    "# from sklearn.ensemble import RandomForestRegressor\n",
    "# model = RandomForestRegressor(max_depth=None, max_features='sqrt', min_samples_split=2, min_samples_leaf=4, bootstrap=True)\n",
    "# param_grid = {'min_samples_leaf': [1, 2, 4],\n",
    "#               'min_samples_split': [2, 5, 10],\n",
    "#               'n_estimators': [100, 300, 500]}\n",
    "# kf = KFold(n_splits=3, shuffle=True, random_state=300)\n",
    "# cv = RandomizedSearchCV(model, param_grid, cv=kf)\n",
    "\n",
    "# cv.fit(X, y)\n",
    "\n",
    "# best_score = cv.best_score_\n",
    "# i = np.where(cv.cv_results_.get(\"mean_test_score\") == best_score)\n",
    "# print(\"Best parameters:\", cv.best_params_)\n",
    "# print(\"Best Mean r^2:\", best_score)\n",
    "# print(\"Best Standard Deviation:\", cv.cv_results_.get(\"std_test_score\")[i])"
   ]
  },
  {
   "cell_type": "markdown",
   "metadata": {
    "id": "mRyYLCEB9Eio"
   },
   "source": [
    "Best parameters: {'n_estimators': 100, 'min_samples_split': 5, 'min_samples_leaf':2}\n",
    "\n",
    "---\n",
    "\n",
    "\n",
    "Best Mean r^2: 0.1478159225145794\n",
    "\n",
    "---\n",
    "\n",
    "\n",
    "Best Standard Deviation: [0.08727522]"
   ]
  },
  {
   "cell_type": "code",
   "execution_count": 36,
   "metadata": {
    "colab": {
     "base_uri": "https://localhost:8080/",
     "height": 92
    },
    "executionInfo": {
     "elapsed": 10268,
     "status": "ok",
     "timestamp": 1706542423518,
     "user": {
      "displayName": "Kaung Htet Wai Yan",
      "userId": "02128948019834248581"
     },
     "user_tz": -480
    },
    "id": "gIka5P5Z5eNV",
    "outputId": "87f05f39-2865-4df2-cdac-94bc7e99b94c"
   },
   "outputs": [
    {
     "data": {
      "text/html": [
       "<style>#sk-container-id-2 {color: black;}#sk-container-id-2 pre{padding: 0;}#sk-container-id-2 div.sk-toggleable {background-color: white;}#sk-container-id-2 label.sk-toggleable__label {cursor: pointer;display: block;width: 100%;margin-bottom: 0;padding: 0.3em;box-sizing: border-box;text-align: center;}#sk-container-id-2 label.sk-toggleable__label-arrow:before {content: \"▸\";float: left;margin-right: 0.25em;color: #696969;}#sk-container-id-2 label.sk-toggleable__label-arrow:hover:before {color: black;}#sk-container-id-2 div.sk-estimator:hover label.sk-toggleable__label-arrow:before {color: black;}#sk-container-id-2 div.sk-toggleable__content {max-height: 0;max-width: 0;overflow: hidden;text-align: left;background-color: #f0f8ff;}#sk-container-id-2 div.sk-toggleable__content pre {margin: 0.2em;color: black;border-radius: 0.25em;background-color: #f0f8ff;}#sk-container-id-2 input.sk-toggleable__control:checked~div.sk-toggleable__content {max-height: 200px;max-width: 100%;overflow: auto;}#sk-container-id-2 input.sk-toggleable__control:checked~label.sk-toggleable__label-arrow:before {content: \"▾\";}#sk-container-id-2 div.sk-estimator input.sk-toggleable__control:checked~label.sk-toggleable__label {background-color: #d4ebff;}#sk-container-id-2 div.sk-label input.sk-toggleable__control:checked~label.sk-toggleable__label {background-color: #d4ebff;}#sk-container-id-2 input.sk-hidden--visually {border: 0;clip: rect(1px 1px 1px 1px);clip: rect(1px, 1px, 1px, 1px);height: 1px;margin: -1px;overflow: hidden;padding: 0;position: absolute;width: 1px;}#sk-container-id-2 div.sk-estimator {font-family: monospace;background-color: #f0f8ff;border: 1px dotted black;border-radius: 0.25em;box-sizing: border-box;margin-bottom: 0.5em;}#sk-container-id-2 div.sk-estimator:hover {background-color: #d4ebff;}#sk-container-id-2 div.sk-parallel-item::after {content: \"\";width: 100%;border-bottom: 1px solid gray;flex-grow: 1;}#sk-container-id-2 div.sk-label:hover label.sk-toggleable__label {background-color: #d4ebff;}#sk-container-id-2 div.sk-serial::before {content: \"\";position: absolute;border-left: 1px solid gray;box-sizing: border-box;top: 0;bottom: 0;left: 50%;z-index: 0;}#sk-container-id-2 div.sk-serial {display: flex;flex-direction: column;align-items: center;background-color: white;padding-right: 0.2em;padding-left: 0.2em;position: relative;}#sk-container-id-2 div.sk-item {position: relative;z-index: 1;}#sk-container-id-2 div.sk-parallel {display: flex;align-items: stretch;justify-content: center;background-color: white;position: relative;}#sk-container-id-2 div.sk-item::before, #sk-container-id-2 div.sk-parallel-item::before {content: \"\";position: absolute;border-left: 1px solid gray;box-sizing: border-box;top: 0;bottom: 0;left: 50%;z-index: -1;}#sk-container-id-2 div.sk-parallel-item {display: flex;flex-direction: column;z-index: 1;position: relative;background-color: white;}#sk-container-id-2 div.sk-parallel-item:first-child::after {align-self: flex-end;width: 50%;}#sk-container-id-2 div.sk-parallel-item:last-child::after {align-self: flex-start;width: 50%;}#sk-container-id-2 div.sk-parallel-item:only-child::after {width: 0;}#sk-container-id-2 div.sk-dashed-wrapped {border: 1px dashed gray;margin: 0 0.4em 0.5em 0.4em;box-sizing: border-box;padding-bottom: 0.4em;background-color: white;}#sk-container-id-2 div.sk-label label {font-family: monospace;font-weight: bold;display: inline-block;line-height: 1.2em;}#sk-container-id-2 div.sk-label-container {text-align: center;}#sk-container-id-2 div.sk-container {/* jupyter's `normalize.less` sets `[hidden] { display: none; }` but bootstrap.min.css set `[hidden] { display: none !important; }` so we also need the `!important` here to be able to override the default hidden behavior on the sphinx rendered scikit-learn.org. See: https://github.com/scikit-learn/scikit-learn/issues/21755 */display: inline-block !important;position: relative;}#sk-container-id-2 div.sk-text-repr-fallback {display: none;}</style><div id=\"sk-container-id-2\" class=\"sk-top-container\"><div class=\"sk-text-repr-fallback\"><pre>RandomForestRegressor(max_features=&#x27;sqrt&#x27;, min_samples_leaf=2,\n",
       "                      min_samples_split=5)</pre><b>In a Jupyter environment, please rerun this cell to show the HTML representation or trust the notebook. <br />On GitHub, the HTML representation is unable to render, please try loading this page with nbviewer.org.</b></div><div class=\"sk-container\" hidden><div class=\"sk-item\"><div class=\"sk-estimator sk-toggleable\"><input class=\"sk-toggleable__control sk-hidden--visually\" id=\"sk-estimator-id-2\" type=\"checkbox\" checked><label for=\"sk-estimator-id-2\" class=\"sk-toggleable__label sk-toggleable__label-arrow\">RandomForestRegressor</label><div class=\"sk-toggleable__content\"><pre>RandomForestRegressor(max_features=&#x27;sqrt&#x27;, min_samples_leaf=2,\n",
       "                      min_samples_split=5)</pre></div></div></div></div></div>"
      ],
      "text/plain": [
       "RandomForestRegressor(max_features='sqrt', min_samples_leaf=2,\n",
       "                      min_samples_split=5)"
      ]
     },
     "execution_count": 36,
     "metadata": {},
     "output_type": "execute_result"
    }
   ],
   "source": [
    "from sklearn.ensemble import RandomForestRegressor\n",
    "\n",
    "REG_MODEL = RandomForestRegressor(max_depth=None, max_features='sqrt', bootstrap=True, n_estimators=100, min_samples_split=5, min_samples_leaf=2)\n",
    "REG_MODEL.fit(X, y)"
   ]
  },
  {
   "cell_type": "markdown",
   "metadata": {
    "id": "YYflpMYNfpXe"
   },
   "source": [
    "Comparing the \"Best Mean r^2\" and \"Best Standard Deviation\" scores amongst these 3 regression models :\n",
    "\n",
    "**Best performing : Random Forest Regressor**\n",
    "\n",
    "Best Mean r^2 Score: 0.1478159225145794\n",
    "\n",
    "Best Standard Deviation Score: 0.08727522"
   ]
  },
  {
   "cell_type": "markdown",
   "metadata": {
    "id": "tb70QfjaLh0c"
   },
   "source": [
    "## Conclusion\n",
    "\n",
    "\"In conclusion, our project managed to employ a Random Forest Classifier that yielded impressive results, showcasing the model's effectiveness in accurately classifying instances within our dataset.\n",
    "\n",
    "On the other hand, the utilization of a Random Forest Regressor, while a powerful tool, did not yield the anticipated high scores for our regression task. Despite the challenges faced, such as the presence of outliers or specific characteristics of the data, the regressor's performance did not match the success seen with the classifier. This outcome emphasizes the importance of carefully considering the nature of the task at hand and the specific strengths and limitations of the chosen algorithm.\n",
    "\n",
    "As we move forward, it is crucial to reflect on the valuable insights gained from both experiences. The successes of the Random Forest Classifier underscore its potential for classification tasks, while the challenges faced with the regressor prompt us to explore alternative regression approaches or fine-tune the model parameters to better suit the intricacies of our specific dataset. In the dynamic field of machine learning, every outcome serves as a learning opportunity, guiding us toward continuous improvement and refinement in our modeling strategies.\"\n"
   ]
  },
  {
   "cell_type": "markdown",
   "metadata": {
    "id": "DWm4GdGiiKsN"
   },
   "source": [
    "## The cell below is **NOT** to be removed\n",
    "##### The function is to be amended so that it accepts the given input (dataframe) and returns the required output (list).\n",
    "##### It is recommended to test the function out prior to submission\n",
    "-------------------------------------------------------------------------------------------------------------------------------\n",
    "##### The hidden_data parsed into the function below will have the same layout columns wise as the dataset *SENT* to you\n",
    "##### Thus, ensure that steps taken to modify the initial dataset to fit into the model are also carried out in the function below"
   ]
  },
  {
   "cell_type": "code",
   "execution_count": 37,
   "metadata": {
    "executionInfo": {
     "elapsed": 314,
     "status": "ok",
     "timestamp": 1706542433086,
     "user": {
      "displayName": "Kaung Htet Wai Yan",
      "userId": "02128948019834248581"
     },
     "user_tz": -480
    },
    "id": "t_YU_ANRiKsO"
   },
   "outputs": [],
   "source": [
    "def testing_hidden_data(df: pd.DataFrame,\n",
    "                        imp_num=IMP_NUM,\n",
    "                        imp_cat=IMP_CAT,\n",
    "                        class_model=CLASS_MODEL,\n",
    "                        scaler=REG_SCALER,\n",
    "                        pca=REG_PCA,\n",
    "                        reg_model=REG_MODEL\n",
    "                        ) -> list:\n",
    "\n",
    "  df = df.drop(columns=['Square Footage',\n",
    "                        'Employees (Single Site)',\n",
    "                        'Import/Export Status',\n",
    "                        'Fiscal Year End',\n",
    "                        'Company Status (Active/Inactive)',\n",
    "                        'AccountID',\n",
    "                        'Company',\n",
    "                        'Company Description',\n",
    "                        '8-Digit SIC Description',\n",
    "                        'LATITUDE',\n",
    "                        'LONGITUDE'])\n",
    "\n",
    "  df[\"same_ultimate_company\"] = df[\"Global Ultimate Company\"] == df[\"Domestic Ultimate Company\"]\n",
    "\n",
    "  df['sector'] = df['SIC Code'].apply(lambda x:\n",
    "      'Agriculture, Forestry and Fishing' if x < 1000 else\n",
    "      'Mining' if x < 1500 else\n",
    "      'Construction' if x < 1800 else\n",
    "      'not used' if x < 2000 else\n",
    "      'Manufacturing' if x < 4000 else\n",
    "      'Transportation, Communications, Electric, Gas and Sanitary service' if x < 5000 else\n",
    "      'Wholesale Trade' if x < 5200 else\n",
    "      'Retail Trade' if x < 6000 else\n",
    "      'Finance, Insurance and Real Estate' if x < 6800 else\n",
    "      'Services' if x < 9000 else\n",
    "      'Public Administration' if x <= 9729 else\n",
    "      'Nonclassifiable'\n",
    "  )\n",
    "\n",
    "  df['par_country_sg'] = df['Parent Country'] == 'Singapore'\n",
    "  df['glob_country_sg'] = df['Global Ultimate Country'] == 'Singapore'\n",
    "  df['same_employees'] = df['Employees (Domestic Ultimate Total)'] == df['Employees (Global Ultimate Total)']\n",
    "\n",
    "  df = df.drop(columns=['SIC Code',\n",
    "                        'Industry',\n",
    "                        '8-Digit SIC Code',\n",
    "                        'Parent Company',\n",
    "                        'Parent Country',\n",
    "                        'Global Ultimate Company',\n",
    "                        'Global Ultimate Country',\n",
    "                        'Domestic Ultimate Company',])\n",
    "\n",
    "  from sklearn.impute import SimpleImputer\n",
    "\n",
    "  df_num = df[[\"Year Found\", \"Employees (Domestic Ultimate Total)\", \"Employees (Global Ultimate Total)\",\n",
    "            \"Sales (Global Ultimate Total USD)\"]]\n",
    "  df_cat = df[[\"Entity Type\", \"Ownership Type\", \"sector\"]]\n",
    "  df.loc[:,df_num.columns] = imp_num.transform(df_num)\n",
    "  df.loc[:,df_cat.columns] = imp_cat.transform(df_cat)\n",
    "\n",
    "  df = pd.get_dummies(df, columns=[\"sector\", \"Entity Type\", \"Ownership Type\"], drop_first=True)\n",
    "\n",
    "  same_sales = CLASS_MODEL.predict(df.values)\n",
    "  result = list(same_sales * df[\"Sales (Global Ultimate Total USD)\"].values)\n",
    "  result = [x if x else 1167843823 for x in result]\n",
    "\n",
    "  # X = df.drop(same_sales, axis=0).values\n",
    "  X = scaler.transform(df.values)\n",
    "  X = pca.transform(X)\n",
    "  y = reg_model.predict(X)\n",
    "\n",
    "  result = same_sales * df[\"Sales (Global Ultimate Total USD)\"].values\n",
    "  result = result + (~same_sales * y)\n",
    "\n",
    "  return result"
   ]
  },
  {
   "cell_type": "markdown",
   "metadata": {
    "id": "ix19gpJ9iKsO"
   },
   "source": [
    "##### Cell to check testing_hidden_data function"
   ]
  },
  {
   "cell_type": "code",
   "execution_count": 38,
   "metadata": {
    "colab": {
     "base_uri": "https://localhost:8080/"
    },
    "executionInfo": {
     "elapsed": 1536,
     "status": "ok",
     "timestamp": 1706542443674,
     "user": {
      "displayName": "Kaung Htet Wai Yan",
      "userId": "02128948019834248581"
     },
     "user_tz": -480
    },
    "id": "1e3Y-Sg5iKsP",
    "outputId": "dccced49-b34e-4890-825b-442018ea60b1"
   },
   "outputs": [
    {
     "data": {
      "text/plain": [
       "0.6926423938449002"
      ]
     },
     "execution_count": 38,
     "metadata": {},
     "output_type": "execute_result"
    }
   ],
   "source": [
    "# This cell should output a list of predictions.\n",
    "test_df = pd.read_csv(filepath)\n",
    "actual = test_df['Sales (Domestic Ultimate Total USD)'].values.ravel()\n",
    "test_df = test_df.drop(columns=['Sales (Domestic Ultimate Total USD)'])\n",
    "pred = np.array(testing_hidden_data(test_df))\n",
    "\n",
    "from sklearn.metrics import r2_score\n",
    "r2_score(actual, pred)"
   ]
  },
  {
   "cell_type": "markdown",
   "metadata": {
    "id": "7WMpgvs0iKsP"
   },
   "source": [
    "### Please have the filename renamed and ensure that it can be run with the requirements above being met. All the best!"
   ]
  }
 ],
 "metadata": {
  "accelerator": "GPU",
  "colab": {
   "collapsed_sections": [
    "NSivh9r4QYxV",
    "B3pVv7dmi0fg"
   ],
   "gpuType": "T4",
   "provenance": [],
   "toc_visible": true
  },
  "kernelspec": {
   "display_name": "Python 3 (ipykernel)",
   "language": "python",
   "name": "python3"
  },
  "language_info": {
   "codemirror_mode": {
    "name": "ipython",
    "version": 3
   },
   "file_extension": ".py",
   "mimetype": "text/x-python",
   "name": "python",
   "nbconvert_exporter": "python",
   "pygments_lexer": "ipython3",
   "version": "3.10.6"
  }
 },
 "nbformat": 4,
 "nbformat_minor": 4
}
